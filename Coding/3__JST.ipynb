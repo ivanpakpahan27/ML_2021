{
 "cells": [
  {
   "cell_type": "code",
   "execution_count": 35,
   "metadata": {
    "executionInfo": {
     "elapsed": 729,
     "status": "ok",
     "timestamp": 1621694512994,
     "user": {
      "displayName": "Ivan Pakpahan",
      "photoUrl": "https://lh3.googleusercontent.com/a-/AOh14GhLBwAL8vhuqK5UGeWMktgqAByft0ql2mJg_1mb=s64",
      "userId": "08537336944096718331"
     },
     "user_tz": -420
    },
    "id": "fod7_lBt_qYq"
   },
   "outputs": [],
   "source": [
    "# Import Libraries\n",
    "import numpy as np\n",
    "import pandas as pd\n",
    "from sklearn.model_selection import train_test_split\n",
    "import matplotlib.pyplot as plt\n",
    "import math"
   ]
  },
  {
   "cell_type": "code",
   "execution_count": 36,
   "metadata": {
    "executionInfo": {
     "elapsed": 433,
     "status": "ok",
     "timestamp": 1621694914769,
     "user": {
      "displayName": "Ivan Pakpahan",
      "photoUrl": "https://lh3.googleusercontent.com/a-/AOh14GhLBwAL8vhuqK5UGeWMktgqAByft0ql2mJg_1mb=s64",
      "userId": "08537336944096718331"
     },
     "user_tz": -420
    },
    "id": "WR5PggIL_zuA"
   },
   "outputs": [],
   "source": [
    "# Load dataset\n",
    "data = pd.read_csv(\"Dataset/diabetes_normalisasi.csv\")\n",
    "data_train = data #Menggunakan semua dataset sebagai data train\n",
    "data_test  = data.iloc[-10:,:]"
   ]
  },
  {
   "cell_type": "code",
   "execution_count": 37,
   "metadata": {
    "executionInfo": {
     "elapsed": 340,
     "status": "ok",
     "timestamp": 1621694930048,
     "user": {
      "displayName": "Ivan Pakpahan",
      "photoUrl": "https://lh3.googleusercontent.com/a-/AOh14GhLBwAL8vhuqK5UGeWMktgqAByft0ql2mJg_1mb=s64",
      "userId": "08537336944096718331"
     },
     "user_tz": -420
    },
    "id": "q4rt829p_9Mm"
   },
   "outputs": [],
   "source": [
    "# Variabel yang digunakan setelah seleksi variabel\n",
    "x = data_train[['Pregnancies', 'Glucose', 'BloodPressure', 'BMI', 'DiabetesPedigreeFunction']].values\n",
    "y = data_train['Outcome'].values"
   ]
  },
  {
   "cell_type": "code",
   "execution_count": 38,
   "metadata": {
    "colab": {
     "base_uri": "https://localhost:8080/"
    },
    "executionInfo": {
     "elapsed": 16,
     "status": "ok",
     "timestamp": 1621694932811,
     "user": {
      "displayName": "Ivan Pakpahan",
      "photoUrl": "https://lh3.googleusercontent.com/a-/AOh14GhLBwAL8vhuqK5UGeWMktgqAByft0ql2mJg_1mb=s64",
      "userId": "08537336944096718331"
     },
     "user_tz": -420
    },
    "id": "8lldCiLNagGB",
    "outputId": "c591ddbf-1485-4568-cb09-ccb9e6a95cc0"
   },
   "outputs": [
    {
     "data": {
      "text/plain": [
       "array([[0.35294118, 0.74371859, 0.59016393, 0.50074516, 0.23441503],\n",
       "       [0.05882353, 0.42713568, 0.54098361, 0.39642325, 0.11656704],\n",
       "       [0.47058824, 0.91959799, 0.52459016, 0.34724292, 0.25362938],\n",
       "       ...,\n",
       "       [0.29411765, 0.6080402 , 0.59016393, 0.390462  , 0.07130658],\n",
       "       [0.05882353, 0.63316583, 0.49180328, 0.4485842 , 0.11571307],\n",
       "       [0.05882353, 0.46733668, 0.57377049, 0.45305514, 0.10119556]])"
      ]
     },
     "execution_count": 38,
     "metadata": {},
     "output_type": "execute_result"
    }
   ],
   "source": [
    "x"
   ]
  },
  {
   "cell_type": "code",
   "execution_count": 39,
   "metadata": {
    "colab": {
     "base_uri": "https://localhost:8080/"
    },
    "executionInfo": {
     "elapsed": 361,
     "status": "ok",
     "timestamp": 1621694937744,
     "user": {
      "displayName": "Ivan Pakpahan",
      "photoUrl": "https://lh3.googleusercontent.com/a-/AOh14GhLBwAL8vhuqK5UGeWMktgqAByft0ql2mJg_1mb=s64",
      "userId": "08537336944096718331"
     },
     "user_tz": -420
    },
    "id": "7dyQsq3BahmT",
    "outputId": "34c754a6-c3e8-454b-962c-d5a7d97d5583"
   },
   "outputs": [
    {
     "data": {
      "text/plain": [
       "array([1, 0, 1, 0, 1, 0, 1, 0, 1, 1, 0, 1, 0, 1, 1, 1, 1, 1, 0, 1, 0, 0,\n",
       "       1, 1, 1, 1, 1, 0, 0, 0, 0, 1, 0, 0, 0, 0, 0, 1, 1, 1, 0, 0, 0, 1,\n",
       "       0, 1, 0, 0, 1, 0, 0, 0, 0, 1, 0, 0, 1, 0, 0, 0, 0, 1, 0, 0, 1, 0,\n",
       "       1, 0, 0, 0, 1, 0, 1, 0, 0, 0, 0, 0, 1, 0, 0, 0, 0, 0, 1, 0, 0, 0,\n",
       "       1, 0, 0, 0, 0, 1, 0, 0, 0, 0, 0, 1, 1, 0, 0, 0, 0, 0, 0, 0, 0, 1,\n",
       "       1, 1, 0, 0, 1, 1, 1, 0, 0, 0, 1, 0, 0, 0, 1, 1, 0, 0, 1, 1, 1, 1,\n",
       "       1, 0, 0, 0, 0, 0, 0, 0, 0, 0, 0, 1, 0, 0, 0, 0, 0, 0, 0, 0, 1, 0,\n",
       "       1, 1, 0, 0, 0, 1, 0, 0, 0, 0, 1, 1, 0, 0, 0, 0, 1, 1, 0, 0, 0, 1,\n",
       "       0, 1, 0, 1, 0, 0, 0, 0, 0, 1, 1, 1, 1, 1, 0, 0, 1, 1, 0, 1, 0, 1,\n",
       "       1, 1, 0, 0, 0, 0, 0, 0, 1, 1, 0, 1, 0, 0, 0, 1, 1, 1, 1, 0, 1, 1,\n",
       "       1, 1, 0, 0, 0, 0, 0, 1, 0, 0, 1, 1, 0, 0, 0, 1, 1, 1, 1, 0, 0, 0,\n",
       "       1, 1, 0, 1, 0, 0, 0, 0, 0, 0, 0, 0, 1, 1, 0, 0, 0, 1, 0, 1, 0, 0,\n",
       "       1, 0, 1, 0, 0, 1, 1, 0, 0, 0, 0, 0, 1, 0, 0, 0, 1, 0, 0, 1, 1, 0,\n",
       "       0, 1, 0, 0, 0, 1, 1, 1, 0, 0, 1, 0, 1, 0, 1, 1, 0, 1, 0, 0, 1, 0,\n",
       "       1, 1, 0, 0, 1, 0, 1, 0, 0, 1, 0, 1, 0, 1, 1, 1, 0, 0, 1, 0, 1, 0,\n",
       "       0, 0, 1, 0, 0, 0, 0, 1, 1, 1, 0, 0, 0, 0, 0, 0, 0, 0, 0, 1, 0, 0,\n",
       "       0, 0, 0, 1, 1, 1, 0, 1, 1, 0, 0, 1, 0, 0, 1, 0, 0, 1, 1, 0, 0, 0,\n",
       "       0, 1, 0, 0, 1, 0, 0, 0, 0, 0, 0, 0, 1, 1, 1, 0, 0, 1, 0, 0, 1, 0,\n",
       "       0, 1, 0, 1, 1, 0, 1, 0, 1, 0, 1, 0, 1, 1, 0, 0, 0, 0, 1, 1, 0, 1,\n",
       "       0, 1, 0, 0, 0, 0, 1, 1, 0, 1, 0, 1, 0, 0, 0, 0, 0, 1, 0, 0, 0, 0,\n",
       "       1, 0, 0, 1, 1, 1, 0, 0, 1, 0, 0, 1, 0, 0, 0, 1, 0, 0, 1, 0, 0, 0,\n",
       "       0, 0, 0, 0, 0, 0, 1, 0, 0, 0, 0, 0, 0, 0, 1, 0, 0, 0, 1, 0, 0, 0,\n",
       "       1, 1, 0, 0, 0, 0, 0, 0, 0, 1, 0, 0, 0, 0, 1, 0, 0, 0, 1, 0, 0, 0,\n",
       "       1, 0, 0, 0, 1, 0, 0, 0, 0, 1, 1, 0, 0, 0, 0, 0, 0, 1, 0, 0, 0, 0,\n",
       "       0, 0, 0, 0, 0, 0, 0, 1, 0, 0, 0, 1, 1, 1, 1, 0, 0, 1, 1, 0, 0, 0,\n",
       "       0, 0, 0, 0, 0, 0, 0, 0, 0, 0, 1, 1, 0, 0, 0, 0, 0, 0, 0, 1, 0, 0,\n",
       "       0, 0, 0, 0, 0, 1, 0, 1, 1, 0, 0, 0, 1, 0, 1, 0, 1, 0, 1, 0, 1, 0,\n",
       "       0, 1, 0, 0, 1, 0, 0, 0, 0, 1, 1, 0, 1, 0, 0, 0, 0, 1, 1, 0, 1, 0,\n",
       "       0, 0, 1, 1, 0, 0, 0, 0, 0, 0, 0, 0, 0, 0, 1, 0, 0, 0, 0, 1, 0, 0,\n",
       "       1, 0, 0, 0, 1, 0, 0, 0, 1, 1, 1, 0, 0, 0, 0, 0, 0, 1, 0, 0, 0, 1,\n",
       "       0, 1, 1, 1, 1, 0, 1, 1, 0, 0, 0, 0, 0, 0, 0, 1, 1, 0, 1, 0, 0, 1,\n",
       "       0, 1, 0, 0, 0, 0, 0, 1, 0, 1, 0, 1, 0, 1, 1, 0, 0, 0, 0, 1, 1, 0,\n",
       "       0, 0, 1, 0, 1, 1, 0, 0, 1, 0, 0, 1, 1, 0, 0, 1, 0, 0, 1, 0, 0, 0,\n",
       "       0, 0, 0, 0, 1, 1, 1, 0, 0, 0, 0, 0, 0, 1, 1, 0, 0, 1, 0, 0, 1, 0,\n",
       "       1, 1, 1, 0, 0, 1, 1, 1, 0, 1, 0, 1, 0, 1, 0, 0, 0, 0, 1, 0],\n",
       "      dtype=int64)"
      ]
     },
     "execution_count": 39,
     "metadata": {},
     "output_type": "execute_result"
    }
   ],
   "source": [
    "y"
   ]
  },
  {
   "cell_type": "code",
   "execution_count": 40,
   "metadata": {
    "executionInfo": {
     "elapsed": 1783,
     "status": "ok",
     "timestamp": 1621694945791,
     "user": {
      "displayName": "Ivan Pakpahan",
      "photoUrl": "https://lh3.googleusercontent.com/a-/AOh14GhLBwAL8vhuqK5UGeWMktgqAByft0ql2mJg_1mb=s64",
      "userId": "08537336944096718331"
     },
     "user_tz": -420
    },
    "id": "33UC-bB2EsRu"
   },
   "outputs": [],
   "source": [
    "#-------------------------------------\n",
    "#- inisiasi\n",
    "\n",
    "input       = x\n",
    "target      = y\n",
    "num_input   = 5\n",
    "net_hidden1 = 10\n",
    "net_hidden2 = 25\n",
    "num_output  = 1"
   ]
  },
  {
   "cell_type": "code",
   "execution_count": 41,
   "metadata": {
    "executionInfo": {
     "elapsed": 370,
     "status": "ok",
     "timestamp": 1621694950465,
     "user": {
      "displayName": "Ivan Pakpahan",
      "photoUrl": "https://lh3.googleusercontent.com/a-/AOh14GhLBwAL8vhuqK5UGeWMktgqAByft0ql2mJg_1mb=s64",
      "userId": "08537336944096718331"
     },
     "user_tz": -420
    },
    "id": "lD16qzZLReGl"
   },
   "outputs": [],
   "source": [
    "# Fungsi Sigmoid\n",
    "def sigmoid(x):\n",
    "  return 1/(1+np.exp(-x))\n",
    "sig = np.vectorize(sigmoid)"
   ]
  },
  {
   "cell_type": "code",
   "execution_count": 42,
   "metadata": {
    "executionInfo": {
     "elapsed": 520,
     "status": "ok",
     "timestamp": 1621695955242,
     "user": {
      "displayName": "Ivan Pakpahan",
      "photoUrl": "https://lh3.googleusercontent.com/a-/AOh14GhLBwAL8vhuqK5UGeWMktgqAByft0ql2mJg_1mb=s64",
      "userId": "08537336944096718331"
     },
     "user_tz": -420
    },
    "id": "vWOV-1kdRmGU"
   },
   "outputs": [],
   "source": [
    "# Inisialisasi Bobot\n",
    "\n",
    "#output-->Hidden Layer1\n",
    "w_hidden1 = np.random.uniform(low=-10, high=10, size=(num_input,net_hidden1))\n",
    "b_hidden1 = np.random.uniform(low=-10, high=10, size=(net_hidden1))\n",
    "#Hidden Layer1-->Hidden Layer2\n",
    "w_hidden2 = np.random.uniform(low=-10, high=10, size=(net_hidden1,net_hidden2))\n",
    "b_hidden2 = np.random.uniform(low=-10, high=10, size=(net_hidden2))\n",
    "#Hidden Layer-->Hidden Layer1\n",
    "w_output = np.random.uniform(low=-10, high=10, size=(net_hidden2,num_output))\n",
    "b_output = np.random.uniform(low=-10, high=10, size=(num_output))\n",
    "\n",
    "# Loss dan Akurasi\n",
    "loss_values = []\n",
    "acc_values  = []\n",
    "\n",
    "lr     = 0.1\n",
    "epochs = 500"
   ]
  },
  {
   "cell_type": "code",
   "execution_count": null,
   "metadata": {
    "colab": {
     "base_uri": "https://localhost:8080/"
    },
    "executionInfo": {
     "elapsed": 290636,
     "status": "ok",
     "timestamp": 1621696247361,
     "user": {
      "displayName": "Ivan Pakpahan",
      "photoUrl": "https://lh3.googleusercontent.com/a-/AOh14GhLBwAL8vhuqK5UGeWMktgqAByft0ql2mJg_1mb=s64",
      "userId": "08537336944096718331"
     },
     "user_tz": -420
    },
    "id": "gLmgEAEtRrUp",
    "outputId": "d0359829-fd86-468c-cf93-e5a71c7e2c74",
    "tags": [
     "outputPrepend"
    ]
   },
   "outputs": [
    {
     "name": "stdout",
     "output_type": "stream",
     "text": [
      "epoch :  0  | error :  [0.2418913]  | acc :  0.63671875\n",
      "epoch :  1  | error :  [0.23122187]  | acc :  0.6458333333333333\n",
      "epoch :  2  | error :  [0.23499894]  | acc :  0.6666666666666667\n",
      "epoch :  3  | error :  [0.21021715]  | acc :  0.6888020833333333\n",
      "epoch :  4  | error :  [0.2029686]  | acc :  0.7109375\n",
      "epoch :  5  | error :  [0.18734799]  | acc :  0.7317708333333333\n",
      "epoch :  6  | error :  [0.18639867]  | acc :  0.7213541666666667\n",
      "epoch :  7  | error :  [0.18334911]  | acc :  0.7395833333333333\n",
      "epoch :  8  | error :  [0.18283213]  | acc :  0.7356770833333333\n",
      "epoch :  9  | error :  [0.1825413]  | acc :  0.734375\n",
      "epoch :  10  | error :  [0.18236128]  | acc :  0.7356770833333333\n",
      "epoch :  11  | error :  [0.18223472]  | acc :  0.7356770833333333\n",
      "epoch :  12  | error :  [0.18208931]  | acc :  0.734375\n",
      "epoch :  13  | error :  [0.18190208]  | acc :  0.7356770833333333\n",
      "epoch :  14  | error :  [0.1817003]  | acc :  0.73828125\n",
      "epoch :  15  | error :  [0.18145673]  | acc :  0.73828125\n",
      "epoch :  16  | error :  [0.1811383]  | acc :  0.7408854166666667\n",
      "epoch :  17  | error :  [0.18102561]  | acc :  0.73828125\n",
      "epoch :  18  | error :  [0.18091396]  | acc :  0.7369791666666667\n",
      "epoch :  19  | error :  [0.1863283]  | acc :  0.73828125\n",
      "epoch :  20  | error :  [0.19649873]  | acc :  0.7018229166666667\n",
      "epoch :  21  | error :  [0.18214282]  | acc :  0.7356770833333333\n",
      "epoch :  22  | error :  [0.18211557]  | acc :  0.73828125\n",
      "epoch :  23  | error :  [0.1821177]  | acc :  0.7395833333333333\n",
      "epoch :  24  | error :  [0.18265344]  | acc :  0.734375\n",
      "epoch :  25  | error :  [0.18197864]  | acc :  0.734375\n",
      "epoch :  26  | error :  [0.18219864]  | acc :  0.7369791666666667\n",
      "epoch :  27  | error :  [0.1814764]  | acc :  0.73828125\n",
      "epoch :  28  | error :  [0.18167627]  | acc :  0.734375\n",
      "epoch :  29  | error :  [0.18666997]  | acc :  0.7330729166666667\n",
      "epoch :  30  | error :  [0.18829517]  | acc :  0.71875\n",
      "epoch :  31  | error :  [0.18010284]  | acc :  0.7369791666666667\n",
      "epoch :  32  | error :  [0.17858643]  | acc :  0.7278645833333333\n",
      "epoch :  33  | error :  [0.17850835]  | acc :  0.7278645833333333\n",
      "epoch :  34  | error :  [0.17813522]  | acc :  0.7317708333333333\n",
      "epoch :  35  | error :  [0.17790942]  | acc :  0.7330729166666667\n",
      "epoch :  36  | error :  [0.17786392]  | acc :  0.7317708333333333\n",
      "epoch :  37  | error :  [0.17764181]  | acc :  0.73046875\n",
      "epoch :  38  | error :  [0.17812087]  | acc :  0.7317708333333333\n",
      "epoch :  39  | error :  [0.17732127]  | acc :  0.7317708333333333\n",
      "epoch :  40  | error :  [0.17719129]  | acc :  0.7317708333333333\n",
      "epoch :  41  | error :  [0.17762475]  | acc :  0.7330729166666667\n",
      "epoch :  42  | error :  [0.17836063]  | acc :  0.734375\n",
      "epoch :  43  | error :  [0.17926935]  | acc :  0.7291666666666667\n",
      "epoch :  44  | error :  [0.18099772]  | acc :  0.7239583333333333\n",
      "epoch :  45  | error :  [0.17759077]  | acc :  0.7356770833333333\n",
      "epoch :  46  | error :  [0.17747649]  | acc :  0.7356770833333333\n",
      "epoch :  47  | error :  [0.1773922]  | acc :  0.734375\n",
      "epoch :  48  | error :  [0.17715376]  | acc :  0.7369791666666667\n",
      "epoch :  49  | error :  [0.17656732]  | acc :  0.73828125\n",
      "epoch :  50  | error :  [0.17611141]  | acc :  0.7395833333333333\n",
      "epoch :  51  | error :  [0.17670265]  | acc :  0.73828125\n",
      "epoch :  52  | error :  [0.17627411]  | acc :  0.7421875\n",
      "epoch :  53  | error :  [0.17571398]  | acc :  0.7395833333333333\n",
      "epoch :  54  | error :  [0.17666977]  | acc :  0.734375\n",
      "epoch :  55  | error :  [0.17687233]  | acc :  0.7421875\n",
      "epoch :  56  | error :  [0.17685792]  | acc :  0.7395833333333333\n",
      "epoch :  57  | error :  [0.17798856]  | acc :  0.7369791666666667\n",
      "epoch :  58  | error :  [0.1789927]  | acc :  0.7408854166666667\n",
      "epoch :  59  | error :  [0.18114213]  | acc :  0.7252604166666667\n",
      "epoch :  60  | error :  [0.17843003]  | acc :  0.7421875\n",
      "epoch :  61  | error :  [0.18382365]  | acc :  0.7408854166666667\n",
      "epoch :  62  | error :  [0.17932015]  | acc :  0.7200520833333333\n",
      "epoch :  63  | error :  [0.17885147]  | acc :  0.7239583333333333\n",
      "epoch :  64  | error :  [0.18697765]  | acc :  0.7135416666666667\n",
      "epoch :  65  | error :  [0.18617152]  | acc :  0.7122395833333333\n",
      "epoch :  66  | error :  [0.18638178]  | acc :  0.7174479166666667\n",
      "epoch :  67  | error :  [0.18646889]  | acc :  0.71484375\n",
      "epoch :  68  | error :  [0.18687976]  | acc :  0.7096354166666667\n",
      "epoch :  69  | error :  [0.18701054]  | acc :  0.7109375\n",
      "epoch :  70  | error :  [0.18372494]  | acc :  0.7200520833333333\n",
      "epoch :  71  | error :  [0.18282759]  | acc :  0.7265625\n",
      "epoch :  72  | error :  [0.18311043]  | acc :  0.71484375\n",
      "epoch :  73  | error :  [0.18306827]  | acc :  0.7109375\n",
      "epoch :  74  | error :  [0.18092044]  | acc :  0.7252604166666667\n",
      "epoch :  75  | error :  [0.18139838]  | acc :  0.7174479166666667\n",
      "epoch :  76  | error :  [0.17901309]  | acc :  0.71875\n",
      "epoch :  77  | error :  [0.17839239]  | acc :  0.72265625\n",
      "epoch :  78  | error :  [0.17984133]  | acc :  0.7239583333333333\n",
      "epoch :  79  | error :  [0.17879497]  | acc :  0.7174479166666667\n",
      "epoch :  80  | error :  [0.18002181]  | acc :  0.7252604166666667\n",
      "epoch :  81  | error :  [0.17983325]  | acc :  0.72265625\n",
      "epoch :  82  | error :  [0.17833082]  | acc :  0.7291666666666667\n",
      "epoch :  83  | error :  [0.17952947]  | acc :  0.7252604166666667\n",
      "epoch :  84  | error :  [0.18100978]  | acc :  0.7174479166666667\n",
      "epoch :  85  | error :  [0.17891676]  | acc :  0.71875\n",
      "epoch :  86  | error :  [0.17924243]  | acc :  0.7239583333333333\n",
      "epoch :  87  | error :  [0.1798351]  | acc :  0.7239583333333333\n",
      "epoch :  88  | error :  [0.17976336]  | acc :  0.7239583333333333\n",
      "epoch :  89  | error :  [0.1790349]  | acc :  0.7278645833333333\n",
      "epoch :  90  | error :  [0.17896499]  | acc :  0.7265625\n",
      "epoch :  91  | error :  [0.18089416]  | acc :  0.72265625\n",
      "epoch :  92  | error :  [0.1809172]  | acc :  0.71875\n",
      "epoch :  93  | error :  [0.18047546]  | acc :  0.72265625\n",
      "epoch :  94  | error :  [0.182971]  | acc :  0.71875\n",
      "epoch :  95  | error :  [0.18403761]  | acc :  0.7057291666666667\n",
      "epoch :  96  | error :  [0.18386573]  | acc :  0.7109375\n",
      "epoch :  97  | error :  [0.18473145]  | acc :  0.7122395833333333\n",
      "epoch :  98  | error :  [0.18513261]  | acc :  0.71484375\n",
      "epoch :  99  | error :  [0.18633265]  | acc :  0.70703125\n",
      "epoch :  100  | error :  [0.18568109]  | acc :  0.7018229166666667\n",
      "epoch :  101  | error :  [0.1855567]  | acc :  0.7057291666666667\n",
      "epoch :  102  | error :  [0.18682066]  | acc :  0.6953125\n",
      "epoch :  103  | error :  [0.18677433]  | acc :  0.7005208333333333\n",
      "epoch :  104  | error :  [0.1863775]  | acc :  0.7057291666666667\n",
      "epoch :  105  | error :  [0.18331103]  | acc :  0.7057291666666667\n",
      "epoch :  106  | error :  [0.18591838]  | acc :  0.7096354166666667\n",
      "epoch :  107  | error :  [0.18375084]  | acc :  0.71875\n",
      "epoch :  108  | error :  [0.18200554]  | acc :  0.75\n",
      "epoch :  109  | error :  [0.18374234]  | acc :  0.7291666666666667\n",
      "epoch :  110  | error :  [0.18216606]  | acc :  0.7161458333333333\n",
      "epoch :  111  | error :  [0.17976619]  | acc :  0.7369791666666667\n",
      "epoch :  112  | error :  [0.18014458]  | acc :  0.75\n",
      "epoch :  113  | error :  [0.17954115]  | acc :  0.7291666666666667\n",
      "epoch :  114  | error :  [0.17899934]  | acc :  0.7356770833333333\n",
      "epoch :  115  | error :  [0.17891697]  | acc :  0.7369791666666667\n",
      "epoch :  116  | error :  [0.17804373]  | acc :  0.7408854166666667\n",
      "epoch :  117  | error :  [0.17943072]  | acc :  0.734375\n",
      "epoch :  118  | error :  [0.17996897]  | acc :  0.7421875\n",
      "epoch :  119  | error :  [0.17752443]  | acc :  0.7447916666666667\n",
      "epoch :  120  | error :  [0.17621477]  | acc :  0.7486979166666667\n",
      "epoch :  121  | error :  [0.17793358]  | acc :  0.7434895833333333\n",
      "epoch :  122  | error :  [0.17605375]  | acc :  0.75\n",
      "epoch :  123  | error :  [0.1771309]  | acc :  0.7513020833333334\n",
      "epoch :  124  | error :  [0.17883266]  | acc :  0.7486979166666667\n",
      "epoch :  125  | error :  [0.1809075]  | acc :  0.7291666666666667\n",
      "epoch :  126  | error :  [0.17777512]  | acc :  0.7317708333333333\n",
      "epoch :  127  | error :  [0.17830109]  | acc :  0.7265625\n",
      "epoch :  128  | error :  [0.17846082]  | acc :  0.7200520833333333\n",
      "epoch :  129  | error :  [0.17697913]  | acc :  0.72265625\n",
      "epoch :  130  | error :  [0.17852699]  | acc :  0.74609375\n",
      "epoch :  131  | error :  [0.17778389]  | acc :  0.7421875\n"
     ]
    },
    {
     "name": "stdout",
     "output_type": "stream",
     "text": [
      "epoch :  132  | error :  [0.18010294]  | acc :  0.73046875\n",
      "epoch :  133  | error :  [0.18146647]  | acc :  0.7239583333333333\n",
      "epoch :  134  | error :  [0.176016]  | acc :  0.7513020833333334\n",
      "epoch :  135  | error :  [0.18045416]  | acc :  0.73828125\n",
      "epoch :  136  | error :  [0.17243916]  | acc :  0.7552083333333334\n",
      "epoch :  137  | error :  [0.178991]  | acc :  0.7643229166666666\n",
      "epoch :  138  | error :  [0.17719471]  | acc :  0.7578125\n",
      "epoch :  139  | error :  [0.1786429]  | acc :  0.7591145833333334\n",
      "epoch :  140  | error :  [0.17981607]  | acc :  0.7591145833333334\n",
      "epoch :  141  | error :  [0.17892923]  | acc :  0.7591145833333334\n",
      "epoch :  142  | error :  [0.17946881]  | acc :  0.7630208333333334\n",
      "epoch :  143  | error :  [0.17825314]  | acc :  0.7604166666666666\n",
      "epoch :  144  | error :  [0.17564737]  | acc :  0.7643229166666666\n",
      "epoch :  145  | error :  [0.18708217]  | acc :  0.7213541666666667\n",
      "epoch :  146  | error :  [0.19385789]  | acc :  0.6809895833333333\n",
      "epoch :  147  | error :  [0.18154419]  | acc :  0.7200520833333333\n",
      "epoch :  148  | error :  [0.16917626]  | acc :  0.76171875\n",
      "epoch :  149  | error :  [0.16955038]  | acc :  0.765625\n",
      "epoch :  150  | error :  [0.17165305]  | acc :  0.7682291666666666\n",
      "epoch :  151  | error :  [0.17144483]  | acc :  0.7591145833333334\n",
      "epoch :  152  | error :  [0.17455601]  | acc :  0.75\n",
      "epoch :  153  | error :  [0.17632266]  | acc :  0.73828125\n",
      "epoch :  154  | error :  [0.17687656]  | acc :  0.734375\n",
      "epoch :  155  | error :  [0.17723528]  | acc :  0.734375\n",
      "epoch :  156  | error :  [0.18178171]  | acc :  0.71484375\n",
      "epoch :  157  | error :  [0.17612809]  | acc :  0.7265625\n",
      "epoch :  158  | error :  [0.17276943]  | acc :  0.7408854166666667\n",
      "epoch :  159  | error :  [0.18202757]  | acc :  0.7356770833333333\n",
      "epoch :  160  | error :  [0.17429023]  | acc :  0.7473958333333333\n",
      "epoch :  161  | error :  [0.17587995]  | acc :  0.7356770833333333\n",
      "epoch :  162  | error :  [0.17641117]  | acc :  0.7369791666666667\n",
      "epoch :  163  | error :  [0.17708618]  | acc :  0.7604166666666666\n",
      "epoch :  164  | error :  [0.17350257]  | acc :  0.7630208333333334\n"
     ]
    }
   ],
   "source": [
    "for epoch in range(epochs):\n",
    "  MSE = 0\n",
    "  new_target = np.zeros(len(target))\n",
    "  \n",
    "  for idx, inp in enumerate(input):\n",
    "    # A. Feedforward\n",
    "    # Hidden Layer1\n",
    "    o_hidden1 = np.matmul(input[idx], w_hidden1) + b_hidden1\n",
    "    o_hidden1 = sig(o_hidden1)\n",
    "    # Hidden Layer2\n",
    "    o_hidden2 = np.matmul(o_hidden1, w_hidden2) + b_hidden2\n",
    "    o_hidden2 = sig(o_hidden2)\n",
    "    # Outpur Layer\n",
    "    o_output  = np.matmul(o_hidden2, w_output) + b_output\n",
    "    o_output  = sig(o_output)\n",
    "    # Menghitung Error\n",
    "    error           = target[idx] - o_output\n",
    "    MSE             = MSE + (error*error)\n",
    "    new_target[idx] = o_output.round()\n",
    "    # Error hidden2->output\n",
    "    eh2             = error @ w_output.T\n",
    "    # Error hidden1->output \n",
    "    eh1             = eh2   @ w_hidden2.T\n",
    "\n",
    "    # B. Backpropagation\n",
    "    # Outpur Layer\n",
    "    w_output = w_output + (lr * ((error * o_output * (1 - o_output))* o_hidden2[np.newaxis].T))\n",
    "    b_output = b_output + (lr * ((error * o_output * (1 - o_output))))\n",
    "    # Hidden Layer2\n",
    "    w_hidden2 = w_hidden2 + (lr * (eh2 * o_hidden2 * (1 - o_hidden2))* o_hidden1[np.newaxis].T)\n",
    "    b_hidden2 = b_hidden2 + (lr * (eh2 * o_hidden2 * (1 - o_hidden2)))\n",
    "    # Hidden Layer1\n",
    "    w_hidden1 = w_hidden1 + (lr * (eh1 * o_hidden1 * (1 - o_hidden1))* input[idx][np.newaxis].T)\n",
    "    b_hidden1 = b_hidden1 + (lr * (eh1 * o_hidden1 * (1 - o_hidden1)))\n",
    "  \n",
    "  MSE = MSE/len(target)\n",
    "  acc = 1 - (np.sum(np.absolute(target-new_target))/len(target))\n",
    "  loss_values.append(MSE)\n",
    "  acc_values.append(acc)\n",
    "  print(\"epoch : \",epoch,\" | error : \",MSE,\" | acc : \",acc)"
   ]
  },
  {
   "cell_type": "code",
   "execution_count": 10,
   "metadata": {},
   "outputs": [
    {
     "data": {
      "image/png": "[encoded data removed]",
      "text/plain": [
       "<Figure size 432x288 with 1 Axes>"
      ]
     },
     "metadata": {
      "needs_background": "light"
     },
     "output_type": "display_data"
    },
    {
     "data": {
      "image/png": "[encoded data removed]",
      "text/plain": [
       "<Figure size 432x288 with 1 Axes>"
      ]
     },
     "metadata": {
      "needs_background": "light"
     },
     "output_type": "display_data"
    }
   ],
   "source": [
    "plot1 = plt.figure(1)\n",
    "plt.plot(loss_values)\n",
    "plt.title(\"Loss Values\")\n",
    "plt.show()\n",
    "\n",
    "plot2 = plt.figure(2)\n",
    "plt.plot(acc_values)\n",
    "plt.title(\"Accuracy Values\")\n",
    "plt.show()\n",
    "\n"
   ]
  },
  {
   "cell_type": "code",
   "execution_count": 11,
   "metadata": {
    "colab": {
     "base_uri": "https://localhost:8080/"
    },
    "executionInfo": {
     "elapsed": 387,
     "status": "ok",
     "timestamp": 1621696569190,
     "user": {
      "displayName": "Ivan Pakpahan",
      "photoUrl": "https://lh3.googleusercontent.com/a-/AOh14GhLBwAL8vhuqK5UGeWMktgqAByft0ql2mJg_1mb=s64",
      "userId": "08537336944096718331"
     },
     "user_tz": -420
    },
    "id": "xVpcAtuFL81l",
    "outputId": "f55161fa-80f2-4052-abc2-0b23e55c4902"
   },
   "outputs": [
    {
     "name": "stdout",
     "output_type": "stream",
     "text": [
      "[[  0.61305676  -0.9889728  -15.51399658  26.29728341  -7.68014936]\n",
      " [  9.75191971 -13.54285323  -8.75856776  30.59744081  14.76886088]\n",
      " [  0.25170678   0.30909442 -10.52381957  -5.19382665  -5.91915176]\n",
      " [ 22.76510751 -21.59742409 -19.812946    -3.38095048   5.46009753]\n",
      " [ 21.95595292   1.33654705   0.9966477    5.16238168  -5.96016499]]\n",
      "[-23.02010885  16.5106752   20.06090592 -22.60935443 -13.84144676]\n",
      "[[ 1.44578683]\n",
      " [-1.43225927]\n",
      " [-0.04848296]\n",
      " [ 1.94794224]\n",
      " [12.15063398]]\n",
      "[-1.43324409]\n"
     ]
    }
   ],
   "source": [
    "print(w_hidden)\n",
    "print(b_hidden)\n",
    "print(w_output)\n",
    "print(b_output)"
   ]
  },
  {
   "cell_type": "code",
   "execution_count": 13,
   "metadata": {},
   "outputs": [],
   "source": [
    "def predict(data):\n",
    "    HasilPredict = []\n",
    "    for i in data:\n",
    "        print(i)\n",
    "        # Hidden Layer\n",
    "        o_hidden = np.matmul(i, w_hidden) + b_hidden\n",
    "        o_hidden = sig(o_hidden)\n",
    "        # Outpur Layer\n",
    "        o_output = np.matmul(o_hidden, w_output) + b_output\n",
    "        o_output = sig(o_output)\n",
    "        HasilPredict.append(o_output.round())\n",
    "    return HasilPredict"
   ]
  },
  {
   "cell_type": "code",
   "execution_count": 14,
   "metadata": {
    "colab": {
     "base_uri": "https://localhost:8080/",
     "height": 359
    },
    "executionInfo": {
     "elapsed": 378,
     "status": "ok",
     "timestamp": 1621697156573,
     "user": {
      "displayName": "Ivan Pakpahan",
      "photoUrl": "https://lh3.googleusercontent.com/a-/AOh14GhLBwAL8vhuqK5UGeWMktgqAByft0ql2mJg_1mb=s64",
      "userId": "08537336944096718331"
     },
     "user_tz": -420
    },
    "id": "oslu3OPQrqiv",
    "outputId": "e203a36c-c745-45b3-8460-503e766784e3"
   },
   "outputs": [
    {
     "data": {
      "text/html": [
       "<div>\n",
       "<style scoped>\n",
       "    .dataframe tbody tr th:only-of-type {\n",
       "        vertical-align: middle;\n",
       "    }\n",
       "\n",
       "    .dataframe tbody tr th {\n",
       "        vertical-align: top;\n",
       "    }\n",
       "\n",
       "    .dataframe thead th {\n",
       "        text-align: right;\n",
       "    }\n",
       "</style>\n",
       "<table border=\"1\" class=\"dataframe\">\n",
       "  <thead>\n",
       "    <tr style=\"text-align: right;\">\n",
       "      <th></th>\n",
       "      <th>Pregnancies</th>\n",
       "      <th>Glucose</th>\n",
       "      <th>BloodPressure</th>\n",
       "      <th>SkinThickness</th>\n",
       "      <th>Insulin</th>\n",
       "      <th>BMI</th>\n",
       "      <th>DiabetesPedigreeFunction</th>\n",
       "      <th>Age</th>\n",
       "      <th>Outcome</th>\n",
       "    </tr>\n",
       "  </thead>\n",
       "  <tbody>\n",
       "    <tr>\n",
       "      <th>758</th>\n",
       "      <td>0.058824</td>\n",
       "      <td>0.532663</td>\n",
       "      <td>0.622951</td>\n",
       "      <td>0.000000</td>\n",
       "      <td>0.000000</td>\n",
       "      <td>0.558867</td>\n",
       "      <td>0.050811</td>\n",
       "      <td>0.083333</td>\n",
       "      <td>0</td>\n",
       "    </tr>\n",
       "    <tr>\n",
       "      <th>759</th>\n",
       "      <td>0.352941</td>\n",
       "      <td>0.954774</td>\n",
       "      <td>0.754098</td>\n",
       "      <td>0.000000</td>\n",
       "      <td>0.000000</td>\n",
       "      <td>0.529061</td>\n",
       "      <td>0.085397</td>\n",
       "      <td>0.750000</td>\n",
       "      <td>1</td>\n",
       "    </tr>\n",
       "    <tr>\n",
       "      <th>760</th>\n",
       "      <td>0.117647</td>\n",
       "      <td>0.442211</td>\n",
       "      <td>0.475410</td>\n",
       "      <td>0.262626</td>\n",
       "      <td>0.018913</td>\n",
       "      <td>0.423249</td>\n",
       "      <td>0.293766</td>\n",
       "      <td>0.016667</td>\n",
       "      <td>0</td>\n",
       "    </tr>\n",
       "    <tr>\n",
       "      <th>761</th>\n",
       "      <td>0.529412</td>\n",
       "      <td>0.854271</td>\n",
       "      <td>0.606557</td>\n",
       "      <td>0.313131</td>\n",
       "      <td>0.000000</td>\n",
       "      <td>0.655738</td>\n",
       "      <td>0.138770</td>\n",
       "      <td>0.366667</td>\n",
       "      <td>1</td>\n",
       "    </tr>\n",
       "    <tr>\n",
       "      <th>762</th>\n",
       "      <td>0.529412</td>\n",
       "      <td>0.447236</td>\n",
       "      <td>0.508197</td>\n",
       "      <td>0.000000</td>\n",
       "      <td>0.000000</td>\n",
       "      <td>0.335320</td>\n",
       "      <td>0.027327</td>\n",
       "      <td>0.200000</td>\n",
       "      <td>0</td>\n",
       "    </tr>\n",
       "    <tr>\n",
       "      <th>763</th>\n",
       "      <td>0.588235</td>\n",
       "      <td>0.507538</td>\n",
       "      <td>0.622951</td>\n",
       "      <td>0.484848</td>\n",
       "      <td>0.212766</td>\n",
       "      <td>0.490313</td>\n",
       "      <td>0.039710</td>\n",
       "      <td>0.700000</td>\n",
       "      <td>0</td>\n",
       "    </tr>\n",
       "    <tr>\n",
       "      <th>764</th>\n",
       "      <td>0.117647</td>\n",
       "      <td>0.613065</td>\n",
       "      <td>0.573770</td>\n",
       "      <td>0.272727</td>\n",
       "      <td>0.000000</td>\n",
       "      <td>0.548435</td>\n",
       "      <td>0.111870</td>\n",
       "      <td>0.100000</td>\n",
       "      <td>0</td>\n",
       "    </tr>\n",
       "    <tr>\n",
       "      <th>765</th>\n",
       "      <td>0.294118</td>\n",
       "      <td>0.608040</td>\n",
       "      <td>0.590164</td>\n",
       "      <td>0.232323</td>\n",
       "      <td>0.132388</td>\n",
       "      <td>0.390462</td>\n",
       "      <td>0.071307</td>\n",
       "      <td>0.150000</td>\n",
       "      <td>0</td>\n",
       "    </tr>\n",
       "    <tr>\n",
       "      <th>766</th>\n",
       "      <td>0.058824</td>\n",
       "      <td>0.633166</td>\n",
       "      <td>0.491803</td>\n",
       "      <td>0.000000</td>\n",
       "      <td>0.000000</td>\n",
       "      <td>0.448584</td>\n",
       "      <td>0.115713</td>\n",
       "      <td>0.433333</td>\n",
       "      <td>1</td>\n",
       "    </tr>\n",
       "    <tr>\n",
       "      <th>767</th>\n",
       "      <td>0.058824</td>\n",
       "      <td>0.467337</td>\n",
       "      <td>0.573770</td>\n",
       "      <td>0.313131</td>\n",
       "      <td>0.000000</td>\n",
       "      <td>0.453055</td>\n",
       "      <td>0.101196</td>\n",
       "      <td>0.033333</td>\n",
       "      <td>0</td>\n",
       "    </tr>\n",
       "  </tbody>\n",
       "</table>\n",
       "</div>"
      ],
      "text/plain": [
       "     Pregnancies   Glucose  BloodPressure  SkinThickness   Insulin       BMI  \\\n",
       "758     0.058824  0.532663       0.622951       0.000000  0.000000  0.558867   \n",
       "759     0.352941  0.954774       0.754098       0.000000  0.000000  0.529061   \n",
       "760     0.117647  0.442211       0.475410       0.262626  0.018913  0.423249   \n",
       "761     0.529412  0.854271       0.606557       0.313131  0.000000  0.655738   \n",
       "762     0.529412  0.447236       0.508197       0.000000  0.000000  0.335320   \n",
       "763     0.588235  0.507538       0.622951       0.484848  0.212766  0.490313   \n",
       "764     0.117647  0.613065       0.573770       0.272727  0.000000  0.548435   \n",
       "765     0.294118  0.608040       0.590164       0.232323  0.132388  0.390462   \n",
       "766     0.058824  0.633166       0.491803       0.000000  0.000000  0.448584   \n",
       "767     0.058824  0.467337       0.573770       0.313131  0.000000  0.453055   \n",
       "\n",
       "     DiabetesPedigreeFunction       Age  Outcome  \n",
       "758                  0.050811  0.083333        0  \n",
       "759                  0.085397  0.750000        1  \n",
       "760                  0.293766  0.016667        0  \n",
       "761                  0.138770  0.366667        1  \n",
       "762                  0.027327  0.200000        0  \n",
       "763                  0.039710  0.700000        0  \n",
       "764                  0.111870  0.100000        0  \n",
       "765                  0.071307  0.150000        0  \n",
       "766                  0.115713  0.433333        1  \n",
       "767                  0.101196  0.033333        0  "
      ]
     },
     "execution_count": 14,
     "metadata": {},
     "output_type": "execute_result"
    }
   ],
   "source": [
    "data_test"
   ]
  },
  {
   "cell_type": "code",
   "execution_count": 16,
   "metadata": {
    "colab": {
     "base_uri": "https://localhost:8080/"
    },
    "executionInfo": {
     "elapsed": 401,
     "status": "ok",
     "timestamp": 1621697345136,
     "user": {
      "displayName": "Ivan Pakpahan",
      "photoUrl": "https://lh3.googleusercontent.com/a-/AOh14GhLBwAL8vhuqK5UGeWMktgqAByft0ql2mJg_1mb=s64",
      "userId": "08537336944096718331"
     },
     "user_tz": -420
    },
    "id": "88wzVYLCq4Ci",
    "outputId": "febfb432-6cee-401d-87d9-baeef807cb84"
   },
   "outputs": [
    {
     "data": {
      "text/plain": [
       "array([[0.05882353, 0.53266332, 0.62295082, 0.55886736, 0.05081127],\n",
       "       [0.35294118, 0.95477387, 0.75409836, 0.5290611 , 0.0853971 ],\n",
       "       [0.11764706, 0.44221106, 0.47540984, 0.42324888, 0.29376601],\n",
       "       [0.52941176, 0.85427136, 0.60655738, 0.6557377 , 0.13877028],\n",
       "       [0.52941176, 0.44723618, 0.50819672, 0.33532042, 0.02732707],\n",
       "       [0.58823529, 0.50753769, 0.62295082, 0.49031297, 0.03970965],\n",
       "       [0.11764706, 0.61306533, 0.57377049, 0.54843517, 0.1118702 ],\n",
       "       [0.29411765, 0.6080402 , 0.59016393, 0.390462  , 0.07130658],\n",
       "       [0.05882353, 0.63316583, 0.49180328, 0.4485842 , 0.11571307],\n",
       "       [0.05882353, 0.46733668, 0.57377049, 0.45305514, 0.10119556]])"
      ]
     },
     "execution_count": 16,
     "metadata": {},
     "output_type": "execute_result"
    }
   ],
   "source": [
    "data_testing = data_test[['Pregnancies', 'Glucose', 'BloodPressure', 'BMI', 'DiabetesPedigreeFunction']].values\n",
    "data_testing"
   ]
  },
  {
   "cell_type": "code",
   "execution_count": 17,
   "metadata": {},
   "outputs": [
    {
     "name": "stdout",
     "output_type": "stream",
     "text": [
      "[0.05882353 0.53266332 0.62295082 0.55886736 0.05081127]\n",
      "[0.35294118 0.95477387 0.75409836 0.5290611  0.0853971 ]\n",
      "[0.11764706 0.44221106 0.47540984 0.42324888 0.29376601]\n",
      "[0.52941176 0.85427136 0.60655738 0.6557377  0.13877028]\n",
      "[0.52941176 0.44723618 0.50819672 0.33532042 0.02732707]\n",
      "[0.58823529 0.50753769 0.62295082 0.49031297 0.03970965]\n",
      "[0.11764706 0.61306533 0.57377049 0.54843517 0.1118702 ]\n",
      "[0.29411765 0.6080402  0.59016393 0.390462   0.07130658]\n",
      "[0.05882353 0.63316583 0.49180328 0.4485842  0.11571307]\n",
      "[0.05882353 0.46733668 0.57377049 0.45305514 0.10119556]\n",
      "[array([0.]), array([1.]), array([0.]), array([1.]), array([0.]), array([1.]), array([0.]), array([0.]), array([0.]), array([0.])]\n"
     ]
    }
   ],
   "source": [
    "Prediksi = predict(data_testing)\n",
    "print(Prediksi)"
   ]
  },
  {
   "cell_type": "code",
   "execution_count": 56,
   "metadata": {},
   "outputs": [
    {
     "data": {
      "text/plain": [
       "'Pregnancies'"
      ]
     },
     "metadata": {},
     "output_type": "display_data"
    },
    {
     "data": {
      "application/vnd.jupyter.widget-view+json": {
       "model_id": "f1b027bf77b441199b2980ceb4764fed",
       "version_major": 2,
       "version_minor": 0
      },
      "text/plain": [
       "Text(value='')"
      ]
     },
     "metadata": {},
     "output_type": "display_data"
    },
    {
     "data": {
      "text/plain": [
       "'Glucose'"
      ]
     },
     "metadata": {},
     "output_type": "display_data"
    },
    {
     "data": {
      "application/vnd.jupyter.widget-view+json": {
       "model_id": "47ca43598d0a41b4b364205b794cdc1c",
       "version_major": 2,
       "version_minor": 0
      },
      "text/plain": [
       "Text(value='')"
      ]
     },
     "metadata": {},
     "output_type": "display_data"
    },
    {
     "data": {
      "text/plain": [
       "'Blood Pressure'"
      ]
     },
     "metadata": {},
     "output_type": "display_data"
    },
    {
     "data": {
      "application/vnd.jupyter.widget-view+json": {
       "model_id": "c9c37a0b955d4311a5df67216f133936",
       "version_major": 2,
       "version_minor": 0
      },
      "text/plain": [
       "Text(value='')"
      ]
     },
     "metadata": {},
     "output_type": "display_data"
    },
    {
     "data": {
      "text/plain": [
       "'BMI'"
      ]
     },
     "metadata": {},
     "output_type": "display_data"
    },
    {
     "data": {
      "application/vnd.jupyter.widget-view+json": {
       "model_id": "4f760fad7f78493daa4d3bfdc786b981",
       "version_major": 2,
       "version_minor": 0
      },
      "text/plain": [
       "Text(value='')"
      ]
     },
     "metadata": {},
     "output_type": "display_data"
    },
    {
     "data": {
      "text/plain": [
       "'Diabetes Pedigree Function'"
      ]
     },
     "metadata": {},
     "output_type": "display_data"
    },
    {
     "data": {
      "application/vnd.jupyter.widget-view+json": {
       "model_id": "0cb6bd482f674ee48a79249141001b79",
       "version_major": 2,
       "version_minor": 0
      },
      "text/plain": [
       "Text(value='')"
      ]
     },
     "metadata": {},
     "output_type": "display_data"
    },
    {
     "data": {
      "application/vnd.jupyter.widget-view+json": {
       "model_id": "47504f2e045b4f6eb045a6a89ed7a998",
       "version_major": 2,
       "version_minor": 0
      },
      "text/plain": [
       "Button(description='Prediksi', style=ButtonStyle())"
      ]
     },
     "metadata": {},
     "output_type": "display_data"
    },
    {
     "name": "stdout",
     "output_type": "stream",
     "text": [
      "[0.0, 1.0, 1.0, 1.0, 1.0]\n"
     ]
    },
    {
     "data": {
      "text/plain": [
       "'Result'"
      ]
     },
     "metadata": {},
     "output_type": "display_data"
    },
    {
     "data": {
      "application/vnd.jupyter.widget-view+json": {
       "model_id": "216a58def54e4a1e865ded54aca4afe0",
       "version_major": 2,
       "version_minor": 0
      },
      "text/plain": [
       "Text(value='1')"
      ]
     },
     "metadata": {},
     "output_type": "display_data"
    },
    {
     "name": "stdout",
     "output_type": "stream",
     "text": [
      "-----------------------------------------------------\n",
      "[0.0, 1.0, 0.2, 0.4, 0.3]\n"
     ]
    },
    {
     "data": {
      "text/plain": [
       "'Result'"
      ]
     },
     "metadata": {},
     "output_type": "display_data"
    },
    {
     "data": {
      "application/vnd.jupyter.widget-view+json": {
       "model_id": "418574609aef4714bf41ae7414ceace1",
       "version_major": 2,
       "version_minor": 0
      },
      "text/plain": [
       "Text(value='1')"
      ]
     },
     "metadata": {},
     "output_type": "display_data"
    },
    {
     "name": "stdout",
     "output_type": "stream",
     "text": [
      "-----------------------------------------------------\n"
     ]
    }
   ],
   "source": [
    "import ipywidgets as widgets \n",
    "from IPython.display import display\n",
    "\n",
    "Pregnancies = widgets.Text() \n",
    "display(\"Pregnancies\", Pregnancies)\n",
    "\n",
    "Glucose = widgets.Text() \n",
    "display(\"Glucose\", Glucose)\n",
    "\n",
    "Blood_Pressure = widgets.Text() \n",
    "display(\"Blood Pressure\", Blood_Pressure)\n",
    "\n",
    "BMI = widgets.Text() \n",
    "display(\"BMI\", BMI)\n",
    "\n",
    "Diabetes_Pedigree_Function = widgets.Text() \n",
    "display(\"Diabetes Pedigree Function\", Diabetes_Pedigree_Function)\n",
    "\n",
    "btn = widgets.Button(description='Prediksi') \n",
    "display(btn)\n",
    "\n",
    "def btn_eventhandler(obj): \n",
    "    result = (predict([[float(Pregnancies.value),float(Glucose.value),float(Blood_Pressure.value),float(BMI.value),float(Diabetes_Pedigree_Function.value)]])) \n",
    "    result = result[0]\n",
    "    result = int(result)\n",
    "    hasil = widgets.Text(str(result)) \n",
    "    display(\"Result\", hasil) \n",
    "    print('-----------------------------------------------------')\n",
    "\n",
    "btn.on_click(btn_eventhandler)"
   ]
  },
  {
   "cell_type": "code",
   "execution_count": null,
   "metadata": {},
   "outputs": [],
   "source": []
  },
  {
   "cell_type": "code",
   "execution_count": null,
   "metadata": {},
   "outputs": [],
   "source": []
  }
 ],
 "metadata": {
  "colab": {
   "authorship_tag": "ABX9TyOWj7/ok6h9iSRUoS6Z2rcD",
   "collapsed_sections": [],
   "mount_file_id": "127xRC-vY8yWtp0uPxVEKRQUETCAf--_Q",
   "name": "3__Backpropagasi.ipynb",
   "provenance": []
  },
  "kernelspec": {
   "display_name": "Python 3",
   "language": "python",
   "name": "python3"
  },
  "language_info": {
   "codemirror_mode": {
    "name": "ipython",
    "version": 3
   },
   "file_extension": ".py",
   "mimetype": "text/x-python",
   "name": "python",
   "nbconvert_exporter": "python",
   "pygments_lexer": "ipython3",
   "version": "3.7.7"
  },
  "metadata": {
   "interpreter": {
    "hash": "dac28e380f7dea8c88c3ac31818164fb0d0b8beb792687e3c6bc58530f20605c"
   }
  }
 },
 "nbformat": 4,
 "nbformat_minor": 1
}
