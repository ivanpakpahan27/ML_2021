{
 "cells": [
  {
   "cell_type": "code",
   "execution_count": 45,
   "metadata": {
    "executionInfo": {
     "elapsed": 729,
     "status": "ok",
     "timestamp": 1621694512994,
     "user": {
      "displayName": "Ivan Pakpahan",
      "photoUrl": "https://lh3.googleusercontent.com/a-/AOh14GhLBwAL8vhuqK5UGeWMktgqAByft0ql2mJg_1mb=s64",
      "userId": "08537336944096718331"
     },
     "user_tz": -420
    },
    "id": "fod7_lBt_qYq"
   },
   "outputs": [],
   "source": [
    "# Import Libraries\n",
    "import numpy as np\n",
    "import pandas as pd\n",
    "from sklearn.model_selection import train_test_split\n",
    "import matplotlib.pyplot as plt\n",
    "import math"
   ]
  },
  {
   "cell_type": "code",
   "execution_count": 46,
   "metadata": {
    "executionInfo": {
     "elapsed": 433,
     "status": "ok",
     "timestamp": 1621694914769,
     "user": {
      "displayName": "Ivan Pakpahan",
      "photoUrl": "https://lh3.googleusercontent.com/a-/AOh14GhLBwAL8vhuqK5UGeWMktgqAByft0ql2mJg_1mb=s64",
      "userId": "08537336944096718331"
     },
     "user_tz": -420
    },
    "id": "WR5PggIL_zuA"
   },
   "outputs": [],
   "source": [
    "# Load dataset\n",
    "data = pd.read_csv(\"Dataset/diabetes_normalisasi.csv\")\n",
    "data_train = data #Menggunakan semua dataset sebagai data train\n",
    "data_test  = data.iloc[-10:,:]"
   ]
  },
  {
   "cell_type": "code",
   "execution_count": 47,
   "metadata": {
    "executionInfo": {
     "elapsed": 340,
     "status": "ok",
     "timestamp": 1621694930048,
     "user": {
      "displayName": "Ivan Pakpahan",
      "photoUrl": "https://lh3.googleusercontent.com/a-/AOh14GhLBwAL8vhuqK5UGeWMktgqAByft0ql2mJg_1mb=s64",
      "userId": "08537336944096718331"
     },
     "user_tz": -420
    },
    "id": "q4rt829p_9Mm"
   },
   "outputs": [],
   "source": [
    "# Variabel yang digunakan setelah seleksi variabel\n",
    "x = data_train[['Pregnancies', 'Glucose', 'BloodPressure', 'BMI', 'DiabetesPedigreeFunction']].values\n",
    "y = data_train['Outcome'].values"
   ]
  },
  {
   "cell_type": "code",
   "execution_count": 48,
   "metadata": {
    "colab": {
     "base_uri": "https://localhost:8080/"
    },
    "executionInfo": {
     "elapsed": 16,
     "status": "ok",
     "timestamp": 1621694932811,
     "user": {
      "displayName": "Ivan Pakpahan",
      "photoUrl": "https://lh3.googleusercontent.com/a-/AOh14GhLBwAL8vhuqK5UGeWMktgqAByft0ql2mJg_1mb=s64",
      "userId": "08537336944096718331"
     },
     "user_tz": -420
    },
    "id": "8lldCiLNagGB",
    "outputId": "c591ddbf-1485-4568-cb09-ccb9e6a95cc0"
   },
   "outputs": [
    {
     "data": {
      "text/plain": [
       "array([[0.35294118, 0.74371859, 0.59016393, 0.50074516, 0.23441503],\n",
       "       [0.05882353, 0.42713568, 0.54098361, 0.39642325, 0.11656704],\n",
       "       [0.47058824, 0.91959799, 0.52459016, 0.34724292, 0.25362938],\n",
       "       ...,\n",
       "       [0.29411765, 0.6080402 , 0.59016393, 0.390462  , 0.07130658],\n",
       "       [0.05882353, 0.63316583, 0.49180328, 0.4485842 , 0.11571307],\n",
       "       [0.05882353, 0.46733668, 0.57377049, 0.45305514, 0.10119556]])"
      ]
     },
     "execution_count": 48,
     "metadata": {},
     "output_type": "execute_result"
    }
   ],
   "source": [
    "x"
   ]
  },
  {
   "cell_type": "code",
   "execution_count": 49,
   "metadata": {
    "colab": {
     "base_uri": "https://localhost:8080/"
    },
    "executionInfo": {
     "elapsed": 361,
     "status": "ok",
     "timestamp": 1621694937744,
     "user": {
      "displayName": "Ivan Pakpahan",
      "photoUrl": "https://lh3.googleusercontent.com/a-/AOh14GhLBwAL8vhuqK5UGeWMktgqAByft0ql2mJg_1mb=s64",
      "userId": "08537336944096718331"
     },
     "user_tz": -420
    },
    "id": "7dyQsq3BahmT",
    "outputId": "34c754a6-c3e8-454b-962c-d5a7d97d5583"
   },
   "outputs": [
    {
     "data": {
      "text/plain": [
       "array([1, 0, 1, 0, 1, 0, 1, 0, 1, 1, 0, 1, 0, 1, 1, 1, 1, 1, 0, 1, 0, 0,\n",
       "       1, 1, 1, 1, 1, 0, 0, 0, 0, 1, 0, 0, 0, 0, 0, 1, 1, 1, 0, 0, 0, 1,\n",
       "       0, 1, 0, 0, 1, 0, 0, 0, 0, 1, 0, 0, 1, 0, 0, 0, 0, 1, 0, 0, 1, 0,\n",
       "       1, 0, 0, 0, 1, 0, 1, 0, 0, 0, 0, 0, 1, 0, 0, 0, 0, 0, 1, 0, 0, 0,\n",
       "       1, 0, 0, 0, 0, 1, 0, 0, 0, 0, 0, 1, 1, 0, 0, 0, 0, 0, 0, 0, 0, 1,\n",
       "       1, 1, 0, 0, 1, 1, 1, 0, 0, 0, 1, 0, 0, 0, 1, 1, 0, 0, 1, 1, 1, 1,\n",
       "       1, 0, 0, 0, 0, 0, 0, 0, 0, 0, 0, 1, 0, 0, 0, 0, 0, 0, 0, 0, 1, 0,\n",
       "       1, 1, 0, 0, 0, 1, 0, 0, 0, 0, 1, 1, 0, 0, 0, 0, 1, 1, 0, 0, 0, 1,\n",
       "       0, 1, 0, 1, 0, 0, 0, 0, 0, 1, 1, 1, 1, 1, 0, 0, 1, 1, 0, 1, 0, 1,\n",
       "       1, 1, 0, 0, 0, 0, 0, 0, 1, 1, 0, 1, 0, 0, 0, 1, 1, 1, 1, 0, 1, 1,\n",
       "       1, 1, 0, 0, 0, 0, 0, 1, 0, 0, 1, 1, 0, 0, 0, 1, 1, 1, 1, 0, 0, 0,\n",
       "       1, 1, 0, 1, 0, 0, 0, 0, 0, 0, 0, 0, 1, 1, 0, 0, 0, 1, 0, 1, 0, 0,\n",
       "       1, 0, 1, 0, 0, 1, 1, 0, 0, 0, 0, 0, 1, 0, 0, 0, 1, 0, 0, 1, 1, 0,\n",
       "       0, 1, 0, 0, 0, 1, 1, 1, 0, 0, 1, 0, 1, 0, 1, 1, 0, 1, 0, 0, 1, 0,\n",
       "       1, 1, 0, 0, 1, 0, 1, 0, 0, 1, 0, 1, 0, 1, 1, 1, 0, 0, 1, 0, 1, 0,\n",
       "       0, 0, 1, 0, 0, 0, 0, 1, 1, 1, 0, 0, 0, 0, 0, 0, 0, 0, 0, 1, 0, 0,\n",
       "       0, 0, 0, 1, 1, 1, 0, 1, 1, 0, 0, 1, 0, 0, 1, 0, 0, 1, 1, 0, 0, 0,\n",
       "       0, 1, 0, 0, 1, 0, 0, 0, 0, 0, 0, 0, 1, 1, 1, 0, 0, 1, 0, 0, 1, 0,\n",
       "       0, 1, 0, 1, 1, 0, 1, 0, 1, 0, 1, 0, 1, 1, 0, 0, 0, 0, 1, 1, 0, 1,\n",
       "       0, 1, 0, 0, 0, 0, 1, 1, 0, 1, 0, 1, 0, 0, 0, 0, 0, 1, 0, 0, 0, 0,\n",
       "       1, 0, 0, 1, 1, 1, 0, 0, 1, 0, 0, 1, 0, 0, 0, 1, 0, 0, 1, 0, 0, 0,\n",
       "       0, 0, 0, 0, 0, 0, 1, 0, 0, 0, 0, 0, 0, 0, 1, 0, 0, 0, 1, 0, 0, 0,\n",
       "       1, 1, 0, 0, 0, 0, 0, 0, 0, 1, 0, 0, 0, 0, 1, 0, 0, 0, 1, 0, 0, 0,\n",
       "       1, 0, 0, 0, 1, 0, 0, 0, 0, 1, 1, 0, 0, 0, 0, 0, 0, 1, 0, 0, 0, 0,\n",
       "       0, 0, 0, 0, 0, 0, 0, 1, 0, 0, 0, 1, 1, 1, 1, 0, 0, 1, 1, 0, 0, 0,\n",
       "       0, 0, 0, 0, 0, 0, 0, 0, 0, 0, 1, 1, 0, 0, 0, 0, 0, 0, 0, 1, 0, 0,\n",
       "       0, 0, 0, 0, 0, 1, 0, 1, 1, 0, 0, 0, 1, 0, 1, 0, 1, 0, 1, 0, 1, 0,\n",
       "       0, 1, 0, 0, 1, 0, 0, 0, 0, 1, 1, 0, 1, 0, 0, 0, 0, 1, 1, 0, 1, 0,\n",
       "       0, 0, 1, 1, 0, 0, 0, 0, 0, 0, 0, 0, 0, 0, 1, 0, 0, 0, 0, 1, 0, 0,\n",
       "       1, 0, 0, 0, 1, 0, 0, 0, 1, 1, 1, 0, 0, 0, 0, 0, 0, 1, 0, 0, 0, 1,\n",
       "       0, 1, 1, 1, 1, 0, 1, 1, 0, 0, 0, 0, 0, 0, 0, 1, 1, 0, 1, 0, 0, 1,\n",
       "       0, 1, 0, 0, 0, 0, 0, 1, 0, 1, 0, 1, 0, 1, 1, 0, 0, 0, 0, 1, 1, 0,\n",
       "       0, 0, 1, 0, 1, 1, 0, 0, 1, 0, 0, 1, 1, 0, 0, 1, 0, 0, 1, 0, 0, 0,\n",
       "       0, 0, 0, 0, 1, 1, 1, 0, 0, 0, 0, 0, 0, 1, 1, 0, 0, 1, 0, 0, 1, 0,\n",
       "       1, 1, 1, 0, 0, 1, 1, 1, 0, 1, 0, 1, 0, 1, 0, 0, 0, 0, 1, 0],\n",
       "      dtype=int64)"
      ]
     },
     "execution_count": 49,
     "metadata": {},
     "output_type": "execute_result"
    }
   ],
   "source": [
    "y"
   ]
  },
  {
   "cell_type": "code",
   "execution_count": 50,
   "metadata": {
    "executionInfo": {
     "elapsed": 1783,
     "status": "ok",
     "timestamp": 1621694945791,
     "user": {
      "displayName": "Ivan Pakpahan",
      "photoUrl": "https://lh3.googleusercontent.com/a-/AOh14GhLBwAL8vhuqK5UGeWMktgqAByft0ql2mJg_1mb=s64",
      "userId": "08537336944096718331"
     },
     "user_tz": -420
    },
    "id": "33UC-bB2EsRu"
   },
   "outputs": [],
   "source": [
    "#-------------------------------------\n",
    "#- inisiasi\n",
    "\n",
    "input       = x\n",
    "target      = y\n",
    "num_input   = 5\n",
    "net_hidden1 = 25\n",
    "net_hidden2 = 50\n",
    "num_output  = 1"
   ]
  },
  {
   "cell_type": "code",
   "execution_count": 51,
   "metadata": {
    "executionInfo": {
     "elapsed": 370,
     "status": "ok",
     "timestamp": 1621694950465,
     "user": {
      "displayName": "Ivan Pakpahan",
      "photoUrl": "https://lh3.googleusercontent.com/a-/AOh14GhLBwAL8vhuqK5UGeWMktgqAByft0ql2mJg_1mb=s64",
      "userId": "08537336944096718331"
     },
     "user_tz": -420
    },
    "id": "lD16qzZLReGl"
   },
   "outputs": [],
   "source": [
    "# Fungsi Sigmoid\n",
    "def sigmoid(x):\n",
    "  return 1/(1+np.exp(-x))\n",
    "sig = np.vectorize(sigmoid)"
   ]
  },
  {
   "cell_type": "code",
   "execution_count": 52,
   "metadata": {
    "executionInfo": {
     "elapsed": 520,
     "status": "ok",
     "timestamp": 1621695955242,
     "user": {
      "displayName": "Ivan Pakpahan",
      "photoUrl": "https://lh3.googleusercontent.com/a-/AOh14GhLBwAL8vhuqK5UGeWMktgqAByft0ql2mJg_1mb=s64",
      "userId": "08537336944096718331"
     },
     "user_tz": -420
    },
    "id": "vWOV-1kdRmGU"
   },
   "outputs": [],
   "source": [
    "# Inisialisasi Bobot\n",
    "\n",
    "#output-->Hidden Layer1\n",
    "w_hidden1 = np.random.uniform(low=-1, high=1, size=(num_input,net_hidden1))\n",
    "b_hidden1 = np.random.uniform(low=-1, high=1, size=(net_hidden1))\n",
    "#Hidden Layer1-->Hidden Layer2\n",
    "w_hidden2 = np.random.uniform(low=-1, high=1, size=(net_hidden1,net_hidden2))\n",
    "b_hidden2 = np.random.uniform(low=-1, high=1, size=(net_hidden2))\n",
    "#Hidden Layer-->Hidden Layer1\n",
    "w_output = np.random.uniform(low=-1, high=1, size=(net_hidden2,num_output))\n",
    "b_output = np.random.uniform(low=-1, high=1, size=(num_output))\n",
    "\n",
    "# Loss dan Akurasi\n",
    "loss_values = []\n",
    "acc_values  = []\n",
    "\n",
    "lr     = 0.1\n",
    "epochs = 500"
   ]
  },
  {
   "cell_type": "code",
   "execution_count": 53,
   "metadata": {
    "colab": {
     "base_uri": "https://localhost:8080/"
    },
    "executionInfo": {
     "elapsed": 290636,
     "status": "ok",
     "timestamp": 1621696247361,
     "user": {
      "displayName": "Ivan Pakpahan",
      "photoUrl": "https://lh3.googleusercontent.com/a-/AOh14GhLBwAL8vhuqK5UGeWMktgqAByft0ql2mJg_1mb=s64",
      "userId": "08537336944096718331"
     },
     "user_tz": -420
    },
    "id": "gLmgEAEtRrUp",
    "outputId": "d0359829-fd86-468c-cf93-e5a71c7e2c74",
    "tags": [
     "outputPrepend"
    ]
   },
   "outputs": [
    {
     "name": "stdout",
     "output_type": "stream",
     "text": [
      "epoch :  0  | error :  [0.21238391]  | acc :  0.6627604166666667\n",
      "epoch :  1  | error :  [0.18142644]  | acc :  0.7369791666666667\n",
      "epoch :  2  | error :  [0.17540407]  | acc :  0.7434895833333333\n",
      "epoch :  3  | error :  [0.17286344]  | acc :  0.73828125\n",
      "epoch :  4  | error :  [0.17137339]  | acc :  0.7408854166666667\n",
      "epoch :  5  | error :  [0.17034614]  | acc :  0.7447916666666667\n",
      "epoch :  6  | error :  [0.16955821]  | acc :  0.7473958333333333\n",
      "epoch :  7  | error :  [0.16890869]  | acc :  0.7473958333333333\n",
      "epoch :  8  | error :  [0.16834601]  | acc :  0.7486979166666667\n",
      "epoch :  9  | error :  [0.16784064]  | acc :  0.7513020833333334\n",
      "epoch :  10  | error :  [0.16737438]  | acc :  0.75390625\n",
      "epoch :  11  | error :  [0.16693572]  | acc :  0.7526041666666666\n",
      "epoch :  12  | error :  [0.16651737]  | acc :  0.7526041666666666\n",
      "epoch :  13  | error :  [0.16611476]  | acc :  0.7552083333333334\n",
      "epoch :  14  | error :  [0.16572502]  | acc :  0.7578125\n",
      "epoch :  15  | error :  [0.16534645]  | acc :  0.7630208333333334\n",
      "epoch :  16  | error :  [0.16497809]  | acc :  0.7630208333333334\n",
      "epoch :  17  | error :  [0.16461945]  | acc :  0.7643229166666666\n",
      "epoch :  18  | error :  [0.1642702]  | acc :  0.76171875\n",
      "epoch :  19  | error :  [0.1639303]  | acc :  0.7604166666666666\n",
      "epoch :  20  | error :  [0.16360019]  | acc :  0.7591145833333334\n",
      "epoch :  21  | error :  [0.163281]  | acc :  0.7591145833333334\n",
      "epoch :  22  | error :  [0.16297442]  | acc :  0.7578125\n",
      "epoch :  23  | error :  [0.16268221]  | acc :  0.7565104166666666\n",
      "epoch :  24  | error :  [0.16240576]  | acc :  0.7591145833333334\n",
      "epoch :  25  | error :  [0.16214593]  | acc :  0.7604166666666666\n",
      "epoch :  26  | error :  [0.16190302]  | acc :  0.7604166666666666\n",
      "epoch :  27  | error :  [0.16167685]  | acc :  0.76171875\n",
      "epoch :  28  | error :  [0.16146688]  | acc :  0.7630208333333334\n",
      "epoch :  29  | error :  [0.16127223]  | acc :  0.7643229166666666\n",
      "epoch :  30  | error :  [0.16109178]  | acc :  0.765625\n",
      "epoch :  31  | error :  [0.1609242]  | acc :  0.765625\n",
      "epoch :  32  | error :  [0.16076803]  | acc :  0.7669270833333334\n",
      "epoch :  33  | error :  [0.16062178]  | acc :  0.7669270833333334\n",
      "epoch :  34  | error :  [0.16048413]  | acc :  0.765625\n",
      "epoch :  35  | error :  [0.16035398]  | acc :  0.7669270833333334\n",
      "epoch :  36  | error :  [0.16023054]  | acc :  0.765625\n",
      "epoch :  37  | error :  [0.16011325]  | acc :  0.765625\n",
      "epoch :  38  | error :  [0.1600017]  | acc :  0.765625\n",
      "epoch :  39  | error :  [0.15989553]  | acc :  0.765625\n",
      "epoch :  40  | error :  [0.15979436]  | acc :  0.765625\n",
      "epoch :  41  | error :  [0.1596978]  | acc :  0.765625\n",
      "epoch :  42  | error :  [0.15960547]  | acc :  0.7643229166666666\n",
      "epoch :  43  | error :  [0.15951699]  | acc :  0.7643229166666666\n",
      "epoch :  44  | error :  [0.159432]  | acc :  0.7630208333333334\n",
      "epoch :  45  | error :  [0.15935016]  | acc :  0.76171875\n",
      "epoch :  46  | error :  [0.15927118]  | acc :  0.7604166666666666\n",
      "epoch :  47  | error :  [0.15919478]  | acc :  0.7604166666666666\n",
      "epoch :  48  | error :  [0.15912073]  | acc :  0.7604166666666666\n",
      "epoch :  49  | error :  [0.15904882]  | acc :  0.7604166666666666\n",
      "epoch :  50  | error :  [0.15897888]  | acc :  0.7604166666666666\n",
      "epoch :  51  | error :  [0.15891076]  | acc :  0.7604166666666666\n",
      "epoch :  52  | error :  [0.15884435]  | acc :  0.7604166666666666\n",
      "epoch :  53  | error :  [0.15877954]  | acc :  0.76171875\n",
      "epoch :  54  | error :  [0.15871625]  | acc :  0.7604166666666666\n",
      "epoch :  55  | error :  [0.15865441]  | acc :  0.76171875\n",
      "epoch :  56  | error :  [0.15859396]  | acc :  0.76171875\n",
      "epoch :  57  | error :  [0.15853486]  | acc :  0.7630208333333334\n",
      "epoch :  58  | error :  [0.15847707]  | acc :  0.7630208333333334\n",
      "epoch :  59  | error :  [0.15842055]  | acc :  0.7630208333333334\n",
      "epoch :  60  | error :  [0.15836527]  | acc :  0.7643229166666666\n",
      "epoch :  61  | error :  [0.1583112]  | acc :  0.7643229166666666\n",
      "epoch :  62  | error :  [0.15825831]  | acc :  0.7643229166666666\n",
      "epoch :  63  | error :  [0.15820658]  | acc :  0.7643229166666666\n",
      "epoch :  64  | error :  [0.158156]  | acc :  0.7643229166666666\n",
      "epoch :  65  | error :  [0.15810653]  | acc :  0.7643229166666666\n",
      "epoch :  66  | error :  [0.15805817]  | acc :  0.7643229166666666\n",
      "epoch :  67  | error :  [0.15801087]  | acc :  0.7643229166666666\n",
      "epoch :  68  | error :  [0.15796458]  | acc :  0.765625\n",
      "epoch :  69  | error :  [0.15791919]  | acc :  0.765625\n",
      "epoch :  70  | error :  [0.1578744]  | acc :  0.7604166666666666\n",
      "epoch :  71  | error :  [0.15782947]  | acc :  0.7591145833333334\n",
      "epoch :  72  | error :  [0.1577827]  | acc :  0.7591145833333334\n",
      "epoch :  73  | error :  [0.15773063]  | acc :  0.7565104166666666\n",
      "epoch :  74  | error :  [0.15766786]  | acc :  0.7604166666666666\n",
      "epoch :  75  | error :  [0.15758862]  | acc :  0.7604166666666666\n",
      "epoch :  76  | error :  [0.1574903]  | acc :  0.7604166666666666\n",
      "epoch :  77  | error :  [0.15737809]  | acc :  0.76171875\n",
      "epoch :  78  | error :  [0.15726273]  | acc :  0.76171875\n",
      "epoch :  79  | error :  [0.15715117]  | acc :  0.7630208333333334\n",
      "epoch :  80  | error :  [0.15704527]  | acc :  0.7630208333333334\n",
      "epoch :  81  | error :  [0.15694499]  | acc :  0.7630208333333334\n",
      "epoch :  82  | error :  [0.15684993]  | acc :  0.7630208333333334\n",
      "epoch :  83  | error :  [0.15675969]  | acc :  0.7630208333333334\n",
      "epoch :  84  | error :  [0.15667388]  | acc :  0.7630208333333334\n",
      "epoch :  85  | error :  [0.15659214]  | acc :  0.7630208333333334\n",
      "epoch :  86  | error :  [0.15651414]  | acc :  0.7630208333333334\n",
      "epoch :  87  | error :  [0.15643961]  | acc :  0.7630208333333334\n",
      "epoch :  88  | error :  [0.15636827]  | acc :  0.7630208333333334\n",
      "epoch :  89  | error :  [0.15629985]  | acc :  0.7630208333333334\n",
      "epoch :  90  | error :  [0.15623409]  | acc :  0.7643229166666666\n",
      "epoch :  91  | error :  [0.15617073]  | acc :  0.7643229166666666\n",
      "epoch :  92  | error :  [0.15610952]  | acc :  0.7643229166666666\n",
      "epoch :  93  | error :  [0.15605022]  | acc :  0.7630208333333334\n",
      "epoch :  94  | error :  [0.15599261]  | acc :  0.7630208333333334\n",
      "epoch :  95  | error :  [0.15593648]  | acc :  0.76171875\n",
      "epoch :  96  | error :  [0.15588165]  | acc :  0.76171875\n",
      "epoch :  97  | error :  [0.15582794]  | acc :  0.76171875\n",
      "epoch :  98  | error :  [0.15577524]  | acc :  0.7604166666666666\n",
      "epoch :  99  | error :  [0.15572343]  | acc :  0.76171875\n",
      "epoch :  100  | error :  [0.15567243]  | acc :  0.7591145833333334\n",
      "epoch :  101  | error :  [0.15562218]  | acc :  0.7591145833333334\n",
      "epoch :  102  | error :  [0.15557266]  | acc :  0.7604166666666666\n",
      "epoch :  103  | error :  [0.15552385]  | acc :  0.7604166666666666\n",
      "epoch :  104  | error :  [0.15547572]  | acc :  0.7604166666666666\n",
      "epoch :  105  | error :  [0.15542827]  | acc :  0.7604166666666666\n",
      "epoch :  106  | error :  [0.1553815]  | acc :  0.7591145833333334\n",
      "epoch :  107  | error :  [0.15533539]  | acc :  0.7604166666666666\n",
      "epoch :  108  | error :  [0.15528992]  | acc :  0.76171875\n",
      "epoch :  109  | error :  [0.15524506]  | acc :  0.7591145833333334\n",
      "epoch :  110  | error :  [0.15520079]  | acc :  0.7604166666666666\n",
      "epoch :  111  | error :  [0.15515706]  | acc :  0.7591145833333334\n",
      "epoch :  112  | error :  [0.15511384]  | acc :  0.7591145833333334\n",
      "epoch :  113  | error :  [0.15507106]  | acc :  0.7591145833333334\n",
      "epoch :  114  | error :  [0.15502869]  | acc :  0.7591145833333334\n",
      "epoch :  115  | error :  [0.15498666]  | acc :  0.7578125\n",
      "epoch :  116  | error :  [0.15494492]  | acc :  0.7565104166666666\n",
      "epoch :  117  | error :  [0.15490341]  | acc :  0.7565104166666666\n",
      "epoch :  118  | error :  [0.1548621]  | acc :  0.7565104166666666\n",
      "epoch :  119  | error :  [0.15482091]  | acc :  0.7552083333333334\n",
      "epoch :  120  | error :  [0.15477981]  | acc :  0.7552083333333334\n",
      "epoch :  121  | error :  [0.15473874]  | acc :  0.7552083333333334\n",
      "epoch :  122  | error :  [0.15469767]  | acc :  0.7552083333333334\n",
      "epoch :  123  | error :  [0.15465656]  | acc :  0.7565104166666666\n",
      "epoch :  124  | error :  [0.15461537]  | acc :  0.7565104166666666\n",
      "epoch :  125  | error :  [0.15457408]  | acc :  0.7565104166666666\n",
      "epoch :  126  | error :  [0.15453265]  | acc :  0.7578125\n",
      "epoch :  127  | error :  [0.15449108]  | acc :  0.7578125\n",
      "epoch :  128  | error :  [0.15444935]  | acc :  0.7578125\n"
     ]
    },
    {
     "name": "stdout",
     "output_type": "stream",
     "text": [
      "epoch :  129  | error :  [0.15440743]  | acc :  0.7578125\n",
      "epoch :  130  | error :  [0.15436534]  | acc :  0.7578125\n",
      "epoch :  131  | error :  [0.15432307]  | acc :  0.7578125\n",
      "epoch :  132  | error :  [0.15428061]  | acc :  0.7565104166666666\n",
      "epoch :  133  | error :  [0.15423797]  | acc :  0.7565104166666666\n",
      "epoch :  134  | error :  [0.15419517]  | acc :  0.7565104166666666\n",
      "epoch :  135  | error :  [0.1541522]  | acc :  0.7578125\n",
      "epoch :  136  | error :  [0.15410909]  | acc :  0.7578125\n",
      "epoch :  137  | error :  [0.15406584]  | acc :  0.7578125\n",
      "epoch :  138  | error :  [0.15402247]  | acc :  0.7591145833333334\n",
      "epoch :  139  | error :  [0.15397899]  | acc :  0.7604166666666666\n",
      "epoch :  140  | error :  [0.15393541]  | acc :  0.7604166666666666\n",
      "epoch :  141  | error :  [0.15389176]  | acc :  0.7604166666666666\n",
      "epoch :  142  | error :  [0.15384805]  | acc :  0.7604166666666666\n",
      "epoch :  143  | error :  [0.15380429]  | acc :  0.76171875\n",
      "epoch :  144  | error :  [0.1537605]  | acc :  0.76171875\n",
      "epoch :  145  | error :  [0.15371668]  | acc :  0.76171875\n",
      "epoch :  146  | error :  [0.15367285]  | acc :  0.76171875\n",
      "epoch :  147  | error :  [0.15362902]  | acc :  0.7630208333333334\n",
      "epoch :  148  | error :  [0.15358521]  | acc :  0.7643229166666666\n",
      "epoch :  149  | error :  [0.15354141]  | acc :  0.7630208333333334\n",
      "epoch :  150  | error :  [0.15349763]  | acc :  0.7630208333333334\n",
      "epoch :  151  | error :  [0.1534539]  | acc :  0.7630208333333334\n",
      "epoch :  152  | error :  [0.1534102]  | acc :  0.7643229166666666\n",
      "epoch :  153  | error :  [0.15336655]  | acc :  0.7643229166666666\n",
      "epoch :  154  | error :  [0.15332296]  | acc :  0.765625\n",
      "epoch :  155  | error :  [0.15327941]  | acc :  0.765625\n",
      "epoch :  156  | error :  [0.15323593]  | acc :  0.765625\n",
      "epoch :  157  | error :  [0.15319251]  | acc :  0.765625\n",
      "epoch :  158  | error :  [0.15314916]  | acc :  0.765625\n",
      "epoch :  159  | error :  [0.15310587]  | acc :  0.765625\n",
      "epoch :  160  | error :  [0.15306265]  | acc :  0.765625\n",
      "epoch :  161  | error :  [0.1530195]  | acc :  0.765625\n",
      "epoch :  162  | error :  [0.15297642]  | acc :  0.765625\n",
      "epoch :  163  | error :  [0.15293341]  | acc :  0.765625\n",
      "epoch :  164  | error :  [0.15289046]  | acc :  0.7669270833333334\n",
      "epoch :  165  | error :  [0.15284758]  | acc :  0.7682291666666666\n",
      "epoch :  166  | error :  [0.15280476]  | acc :  0.7682291666666666\n",
      "epoch :  167  | error :  [0.15276199]  | acc :  0.7682291666666666\n",
      "epoch :  168  | error :  [0.15271928]  | acc :  0.7682291666666666\n",
      "epoch :  169  | error :  [0.15267662]  | acc :  0.7682291666666666\n",
      "epoch :  170  | error :  [0.152634]  | acc :  0.7682291666666666\n",
      "epoch :  171  | error :  [0.15259141]  | acc :  0.7682291666666666\n",
      "epoch :  172  | error :  [0.15254885]  | acc :  0.7682291666666666\n",
      "epoch :  173  | error :  [0.1525063]  | acc :  0.7682291666666666\n",
      "epoch :  174  | error :  [0.15246375]  | acc :  0.7669270833333334\n",
      "epoch :  175  | error :  [0.15242119]  | acc :  0.7669270833333334\n",
      "epoch :  176  | error :  [0.15237861]  | acc :  0.7669270833333334\n",
      "epoch :  177  | error :  [0.15233598]  | acc :  0.7669270833333334\n",
      "epoch :  178  | error :  [0.1522933]  | acc :  0.7669270833333334\n",
      "epoch :  179  | error :  [0.15225053]  | acc :  0.7669270833333334\n",
      "epoch :  180  | error :  [0.15220767]  | acc :  0.7669270833333334\n",
      "epoch :  181  | error :  [0.15216468]  | acc :  0.7669270833333334\n",
      "epoch :  182  | error :  [0.15212156]  | acc :  0.7669270833333334\n",
      "epoch :  183  | error :  [0.15207828]  | acc :  0.7669270833333334\n",
      "epoch :  184  | error :  [0.15203484]  | acc :  0.7669270833333334\n",
      "epoch :  185  | error :  [0.15199121]  | acc :  0.7669270833333334\n",
      "epoch :  186  | error :  [0.1519474]  | acc :  0.7669270833333334\n",
      "epoch :  187  | error :  [0.15190342]  | acc :  0.7669270833333334\n",
      "epoch :  188  | error :  [0.15185927]  | acc :  0.7669270833333334\n",
      "epoch :  189  | error :  [0.15181499]  | acc :  0.7669270833333334\n",
      "epoch :  190  | error :  [0.15177059]  | acc :  0.7669270833333334\n",
      "epoch :  191  | error :  [0.15172612]  | acc :  0.7669270833333334\n",
      "epoch :  192  | error :  [0.15168162]  | acc :  0.7669270833333334\n",
      "epoch :  193  | error :  [0.15163711]  | acc :  0.7669270833333334\n",
      "epoch :  194  | error :  [0.15159264]  | acc :  0.7669270833333334\n",
      "epoch :  195  | error :  [0.15154824]  | acc :  0.7669270833333334\n",
      "epoch :  196  | error :  [0.15150392]  | acc :  0.7669270833333334\n",
      "epoch :  197  | error :  [0.1514597]  | acc :  0.7669270833333334\n",
      "epoch :  198  | error :  [0.15141558]  | acc :  0.7669270833333334\n",
      "epoch :  199  | error :  [0.15137156]  | acc :  0.7669270833333334\n",
      "epoch :  200  | error :  [0.15132765]  | acc :  0.7669270833333334\n",
      "epoch :  201  | error :  [0.15128383]  | acc :  0.7669270833333334\n",
      "epoch :  202  | error :  [0.15124011]  | acc :  0.765625\n",
      "epoch :  203  | error :  [0.15119649]  | acc :  0.7682291666666666\n",
      "epoch :  204  | error :  [0.15115296]  | acc :  0.76953125\n",
      "epoch :  205  | error :  [0.15110952]  | acc :  0.7708333333333334\n",
      "epoch :  206  | error :  [0.15106619]  | acc :  0.7721354166666666\n",
      "epoch :  207  | error :  [0.15102297]  | acc :  0.7721354166666666\n",
      "epoch :  208  | error :  [0.15097985]  | acc :  0.7721354166666666\n",
      "epoch :  209  | error :  [0.15093687]  | acc :  0.7721354166666666\n",
      "epoch :  210  | error :  [0.15089402]  | acc :  0.7734375\n",
      "epoch :  211  | error :  [0.15085133]  | acc :  0.7734375\n",
      "epoch :  212  | error :  [0.15080881]  | acc :  0.7721354166666666\n",
      "epoch :  213  | error :  [0.15076648]  | acc :  0.7721354166666666\n",
      "epoch :  214  | error :  [0.15072436]  | acc :  0.7734375\n",
      "epoch :  215  | error :  [0.15068248]  | acc :  0.7734375\n",
      "epoch :  216  | error :  [0.15064084]  | acc :  0.7734375\n",
      "epoch :  217  | error :  [0.15059949]  | acc :  0.7734375\n",
      "epoch :  218  | error :  [0.15055845]  | acc :  0.7734375\n",
      "epoch :  219  | error :  [0.15051774]  | acc :  0.7734375\n",
      "epoch :  220  | error :  [0.1504774]  | acc :  0.7734375\n",
      "epoch :  221  | error :  [0.15043745]  | acc :  0.7734375\n",
      "epoch :  222  | error :  [0.15039792]  | acc :  0.7734375\n",
      "epoch :  223  | error :  [0.15035884]  | acc :  0.7721354166666666\n",
      "epoch :  224  | error :  [0.15032024]  | acc :  0.7721354166666666\n",
      "epoch :  225  | error :  [0.15028215]  | acc :  0.7708333333333334\n",
      "epoch :  226  | error :  [0.15024459]  | acc :  0.7708333333333334\n",
      "epoch :  227  | error :  [0.15020759]  | acc :  0.7708333333333334\n",
      "epoch :  228  | error :  [0.15017117]  | acc :  0.7708333333333334\n",
      "epoch :  229  | error :  [0.15013535]  | acc :  0.7708333333333334\n",
      "epoch :  230  | error :  [0.15010014]  | acc :  0.7721354166666666\n",
      "epoch :  231  | error :  [0.15006554]  | acc :  0.7721354166666666\n",
      "epoch :  232  | error :  [0.15003158]  | acc :  0.7721354166666666\n",
      "epoch :  233  | error :  [0.14999826]  | acc :  0.7721354166666666\n",
      "epoch :  234  | error :  [0.14996557]  | acc :  0.7721354166666666\n",
      "epoch :  235  | error :  [0.14993354]  | acc :  0.7734375\n",
      "epoch :  236  | error :  [0.14990217]  | acc :  0.7734375\n",
      "epoch :  237  | error :  [0.1498715]  | acc :  0.7734375\n",
      "epoch :  238  | error :  [0.14984158]  | acc :  0.7734375\n",
      "epoch :  239  | error :  [0.14981248]  | acc :  0.7747395833333334\n",
      "epoch :  240  | error :  [0.14978431]  | acc :  0.7747395833333334\n",
      "epoch :  241  | error :  [0.14975722]  | acc :  0.7747395833333334\n",
      "epoch :  242  | error :  [0.14973138]  | acc :  0.7747395833333334\n",
      "epoch :  243  | error :  [0.149707]  | acc :  0.7747395833333334\n",
      "epoch :  244  | error :  [0.14968431]  | acc :  0.7747395833333334\n",
      "epoch :  245  | error :  [0.14966356]  | acc :  0.7747395833333334\n",
      "epoch :  246  | error :  [0.14964496]  | acc :  0.7721354166666666\n",
      "epoch :  247  | error :  [0.14962873]  | acc :  0.7734375\n",
      "epoch :  248  | error :  [0.14961499]  | acc :  0.7734375\n",
      "epoch :  249  | error :  [0.14960382]  | acc :  0.7747395833333334\n",
      "epoch :  250  | error :  [0.14959518]  | acc :  0.7760416666666666\n",
      "epoch :  251  | error :  [0.1495889]  | acc :  0.77734375\n",
      "epoch :  252  | error :  [0.14958471]  | acc :  0.7760416666666666\n",
      "epoch :  253  | error :  [0.14958219]  | acc :  0.7747395833333334\n",
      "epoch :  254  | error :  [0.14958085]  | acc :  0.7760416666666666\n",
      "epoch :  255  | error :  [0.14958008]  | acc :  0.7760416666666666\n",
      "epoch :  256  | error :  [0.14957926]  | acc :  0.7760416666666666\n"
     ]
    },
    {
     "name": "stdout",
     "output_type": "stream",
     "text": [
      "epoch :  257  | error :  [0.14957776]  | acc :  0.7760416666666666\n",
      "epoch :  258  | error :  [0.149575]  | acc :  0.7747395833333334\n",
      "epoch :  259  | error :  [0.14957048]  | acc :  0.7747395833333334\n",
      "epoch :  260  | error :  [0.14956379]  | acc :  0.7747395833333334\n",
      "epoch :  261  | error :  [0.14955462]  | acc :  0.7747395833333334\n",
      "epoch :  262  | error :  [0.14954277]  | acc :  0.7747395833333334\n",
      "epoch :  263  | error :  [0.14952811]  | acc :  0.7747395833333334\n",
      "epoch :  264  | error :  [0.14951058]  | acc :  0.7734375\n",
      "epoch :  265  | error :  [0.14949019]  | acc :  0.7734375\n",
      "epoch :  266  | error :  [0.14946705]  | acc :  0.7721354166666666\n",
      "epoch :  267  | error :  [0.14944133]  | acc :  0.7721354166666666\n",
      "epoch :  268  | error :  [0.14941327]  | acc :  0.7708333333333334\n",
      "epoch :  269  | error :  [0.14938314]  | acc :  0.7708333333333334\n",
      "epoch :  270  | error :  [0.14935119]  | acc :  0.7708333333333334\n",
      "epoch :  271  | error :  [0.1493179]  | acc :  0.7708333333333334\n",
      "epoch :  272  | error :  [0.14928427]  | acc :  0.7708333333333334\n",
      "epoch :  273  | error :  [0.14925218]  | acc :  0.7721354166666666\n",
      "epoch :  274  | error :  [0.14922403]  | acc :  0.7721354166666666\n",
      "epoch :  275  | error :  [0.14920181]  | acc :  0.7721354166666666\n",
      "epoch :  276  | error :  [0.14918624]  | acc :  0.7721354166666666\n",
      "epoch :  277  | error :  [0.14917673]  | acc :  0.7734375\n",
      "epoch :  278  | error :  [0.1491718]  | acc :  0.7734375\n",
      "epoch :  279  | error :  [0.14916968]  | acc :  0.7747395833333334\n",
      "epoch :  280  | error :  [0.14916872]  | acc :  0.7747395833333334\n",
      "epoch :  281  | error :  [0.14916762]  | acc :  0.7747395833333334\n",
      "epoch :  282  | error :  [0.14916554]  | acc :  0.7760416666666666\n",
      "epoch :  283  | error :  [0.149162]  | acc :  0.7747395833333334\n",
      "epoch :  284  | error :  [0.14915684]  | acc :  0.7747395833333334\n",
      "epoch :  285  | error :  [0.14915009]  | acc :  0.7747395833333334\n",
      "epoch :  286  | error :  [0.14914186]  | acc :  0.7747395833333334\n",
      "epoch :  287  | error :  [0.14913231]  | acc :  0.7747395833333334\n",
      "epoch :  288  | error :  [0.14912152]  | acc :  0.7747395833333334\n",
      "epoch :  289  | error :  [0.14910956]  | acc :  0.7747395833333334\n",
      "epoch :  290  | error :  [0.14909641]  | acc :  0.7760416666666666\n",
      "epoch :  291  | error :  [0.14908201]  | acc :  0.7747395833333334\n",
      "epoch :  292  | error :  [0.14906631]  | acc :  0.7747395833333334\n",
      "epoch :  293  | error :  [0.14904924]  | acc :  0.7760416666666666\n",
      "epoch :  294  | error :  [0.14903077]  | acc :  0.7760416666666666\n",
      "epoch :  295  | error :  [0.14901089]  | acc :  0.7760416666666666\n",
      "epoch :  296  | error :  [0.14898961]  | acc :  0.77734375\n",
      "epoch :  297  | error :  [0.14896701]  | acc :  0.77734375\n",
      "epoch :  298  | error :  [0.14894313]  | acc :  0.77734375\n",
      "epoch :  299  | error :  [0.14891807]  | acc :  0.77734375\n",
      "epoch :  300  | error :  [0.14889191]  | acc :  0.77734375\n",
      "epoch :  301  | error :  [0.14886475]  | acc :  0.77734375\n",
      "epoch :  302  | error :  [0.14883666]  | acc :  0.7760416666666666\n",
      "epoch :  303  | error :  [0.14880774]  | acc :  0.7760416666666666\n",
      "epoch :  304  | error :  [0.14877804]  | acc :  0.7760416666666666\n",
      "epoch :  305  | error :  [0.14874763]  | acc :  0.7747395833333334\n",
      "epoch :  306  | error :  [0.14871655]  | acc :  0.7747395833333334\n",
      "epoch :  307  | error :  [0.14868483]  | acc :  0.7747395833333334\n",
      "epoch :  308  | error :  [0.14865248]  | acc :  0.7747395833333334\n",
      "epoch :  309  | error :  [0.1486195]  | acc :  0.7747395833333334\n",
      "epoch :  310  | error :  [0.14858588]  | acc :  0.7734375\n",
      "epoch :  311  | error :  [0.1485516]  | acc :  0.7747395833333334\n",
      "epoch :  312  | error :  [0.1485166]  | acc :  0.7747395833333334\n",
      "epoch :  313  | error :  [0.14848087]  | acc :  0.7747395833333334\n",
      "epoch :  314  | error :  [0.14844435]  | acc :  0.7747395833333334\n",
      "epoch :  315  | error :  [0.148407]  | acc :  0.7747395833333334\n",
      "epoch :  316  | error :  [0.14836877]  | acc :  0.7734375\n",
      "epoch :  317  | error :  [0.14832962]  | acc :  0.7747395833333334\n",
      "epoch :  318  | error :  [0.14828951]  | acc :  0.7747395833333334\n",
      "epoch :  319  | error :  [0.14824841]  | acc :  0.7747395833333334\n",
      "epoch :  320  | error :  [0.14820628]  | acc :  0.7747395833333334\n",
      "epoch :  321  | error :  [0.14816311]  | acc :  0.7747395833333334\n",
      "epoch :  322  | error :  [0.14811888]  | acc :  0.7760416666666666\n",
      "epoch :  323  | error :  [0.14807358]  | acc :  0.7747395833333334\n",
      "epoch :  324  | error :  [0.14802722]  | acc :  0.7747395833333334\n",
      "epoch :  325  | error :  [0.14797979]  | acc :  0.7747395833333334\n",
      "epoch :  326  | error :  [0.14793133]  | acc :  0.7747395833333334\n",
      "epoch :  327  | error :  [0.14788185]  | acc :  0.7747395833333334\n",
      "epoch :  328  | error :  [0.14783137]  | acc :  0.7734375\n",
      "epoch :  329  | error :  [0.14777993]  | acc :  0.7734375\n",
      "epoch :  330  | error :  [0.14772757]  | acc :  0.7734375\n",
      "epoch :  331  | error :  [0.14767432]  | acc :  0.7734375\n",
      "epoch :  332  | error :  [0.14762021]  | acc :  0.7747395833333334\n",
      "epoch :  333  | error :  [0.14756527]  | acc :  0.7760416666666666\n",
      "epoch :  334  | error :  [0.14750954]  | acc :  0.7760416666666666\n",
      "epoch :  335  | error :  [0.14745302]  | acc :  0.7760416666666666\n",
      "epoch :  336  | error :  [0.14739574]  | acc :  0.7760416666666666\n",
      "epoch :  337  | error :  [0.14733769]  | acc :  0.7760416666666666\n",
      "epoch :  338  | error :  [0.14727888]  | acc :  0.7760416666666666\n",
      "epoch :  339  | error :  [0.14721928]  | acc :  0.7760416666666666\n",
      "epoch :  340  | error :  [0.14715887]  | acc :  0.77734375\n",
      "epoch :  341  | error :  [0.14709762]  | acc :  0.77734375\n",
      "epoch :  342  | error :  [0.1470355]  | acc :  0.77734375\n",
      "epoch :  343  | error :  [0.14697245]  | acc :  0.77734375\n",
      "epoch :  344  | error :  [0.14690842]  | acc :  0.7786458333333334\n",
      "epoch :  345  | error :  [0.14684337]  | acc :  0.7786458333333334\n",
      "epoch :  346  | error :  [0.14677723]  | acc :  0.7786458333333334\n",
      "epoch :  347  | error :  [0.14670994]  | acc :  0.7786458333333334\n",
      "epoch :  348  | error :  [0.14664145]  | acc :  0.7786458333333334\n",
      "epoch :  349  | error :  [0.14657169]  | acc :  0.7786458333333334\n",
      "epoch :  350  | error :  [0.14650061]  | acc :  0.7799479166666666\n",
      "epoch :  351  | error :  [0.14642814]  | acc :  0.7799479166666666\n",
      "epoch :  352  | error :  [0.14635424]  | acc :  0.7799479166666666\n",
      "epoch :  353  | error :  [0.14627886]  | acc :  0.78125\n",
      "epoch :  354  | error :  [0.14620194]  | acc :  0.7825520833333334\n",
      "epoch :  355  | error :  [0.14612345]  | acc :  0.7825520833333334\n",
      "epoch :  356  | error :  [0.14604335]  | acc :  0.78515625\n",
      "epoch :  357  | error :  [0.14596162]  | acc :  0.7838541666666666\n",
      "epoch :  358  | error :  [0.14587822]  | acc :  0.78515625\n",
      "epoch :  359  | error :  [0.14579314]  | acc :  0.7864583333333334\n",
      "epoch :  360  | error :  [0.14570638]  | acc :  0.7864583333333334\n",
      "epoch :  361  | error :  [0.14561794]  | acc :  0.7864583333333334\n",
      "epoch :  362  | error :  [0.14552782]  | acc :  0.7864583333333334\n",
      "epoch :  363  | error :  [0.14543604]  | acc :  0.78515625\n",
      "epoch :  364  | error :  [0.14534263]  | acc :  0.7864583333333334\n",
      "epoch :  365  | error :  [0.14524762]  | acc :  0.7864583333333334\n",
      "epoch :  366  | error :  [0.14515104]  | acc :  0.7864583333333334\n",
      "epoch :  367  | error :  [0.14505295]  | acc :  0.7864583333333334\n",
      "epoch :  368  | error :  [0.1449534]  | acc :  0.7877604166666666\n",
      "epoch :  369  | error :  [0.14485246]  | acc :  0.7877604166666666\n",
      "epoch :  370  | error :  [0.1447502]  | acc :  0.7877604166666666\n",
      "epoch :  371  | error :  [0.14464669]  | acc :  0.7890625\n",
      "epoch :  372  | error :  [0.14454202]  | acc :  0.7890625\n",
      "epoch :  373  | error :  [0.14443627]  | acc :  0.7890625\n",
      "epoch :  374  | error :  [0.14432955]  | acc :  0.7864583333333334\n",
      "epoch :  375  | error :  [0.14422193]  | acc :  0.7864583333333334\n",
      "epoch :  376  | error :  [0.14411354]  | acc :  0.7877604166666666\n",
      "epoch :  377  | error :  [0.14400446]  | acc :  0.7877604166666666\n",
      "epoch :  378  | error :  [0.1438948]  | acc :  0.7890625\n",
      "epoch :  379  | error :  [0.14378467]  | acc :  0.7890625\n",
      "epoch :  380  | error :  [0.14367417]  | acc :  0.7877604166666666\n",
      "epoch :  381  | error :  [0.14356339]  | acc :  0.7890625\n",
      "epoch :  382  | error :  [0.14345244]  | acc :  0.7890625\n",
      "epoch :  383  | error :  [0.1433414]  | acc :  0.7877604166666666\n"
     ]
    },
    {
     "name": "stdout",
     "output_type": "stream",
     "text": [
      "epoch :  384  | error :  [0.14323038]  | acc :  0.7877604166666666\n",
      "epoch :  385  | error :  [0.14311946]  | acc :  0.7877604166666666\n",
      "epoch :  386  | error :  [0.14300872]  | acc :  0.7877604166666666\n",
      "epoch :  387  | error :  [0.14289823]  | acc :  0.7877604166666666\n",
      "epoch :  388  | error :  [0.14278808]  | acc :  0.7877604166666666\n",
      "epoch :  389  | error :  [0.14267831]  | acc :  0.7890625\n",
      "epoch :  390  | error :  [0.14256899]  | acc :  0.7903645833333334\n",
      "epoch :  391  | error :  [0.14246016]  | acc :  0.7890625\n",
      "epoch :  392  | error :  [0.14235187]  | acc :  0.7890625\n",
      "epoch :  393  | error :  [0.14224416]  | acc :  0.7903645833333334\n",
      "epoch :  394  | error :  [0.14213704]  | acc :  0.7890625\n",
      "epoch :  395  | error :  [0.14203054]  | acc :  0.7890625\n",
      "epoch :  396  | error :  [0.14192468]  | acc :  0.7890625\n",
      "epoch :  397  | error :  [0.14181945]  | acc :  0.7890625\n",
      "epoch :  398  | error :  [0.14171487]  | acc :  0.7890625\n",
      "epoch :  399  | error :  [0.14161092]  | acc :  0.7903645833333334\n",
      "epoch :  400  | error :  [0.14150761]  | acc :  0.7890625\n",
      "epoch :  401  | error :  [0.14140491]  | acc :  0.7890625\n",
      "epoch :  402  | error :  [0.14130282]  | acc :  0.7890625\n",
      "epoch :  403  | error :  [0.14120131]  | acc :  0.7890625\n",
      "epoch :  404  | error :  [0.14110037]  | acc :  0.7890625\n",
      "epoch :  405  | error :  [0.14099996]  | acc :  0.7890625\n",
      "epoch :  406  | error :  [0.14090007]  | acc :  0.7903645833333334\n",
      "epoch :  407  | error :  [0.14080066]  | acc :  0.7903645833333334\n",
      "epoch :  408  | error :  [0.1407017]  | acc :  0.7903645833333334\n",
      "epoch :  409  | error :  [0.14060315]  | acc :  0.7903645833333334\n",
      "epoch :  410  | error :  [0.14050499]  | acc :  0.7903645833333334\n",
      "epoch :  411  | error :  [0.14040718]  | acc :  0.7903645833333334\n",
      "epoch :  412  | error :  [0.14030967]  | acc :  0.7903645833333334\n",
      "epoch :  413  | error :  [0.14021243]  | acc :  0.7903645833333334\n",
      "epoch :  414  | error :  [0.14011544]  | acc :  0.7903645833333334\n",
      "epoch :  415  | error :  [0.14001867]  | acc :  0.7903645833333334\n",
      "epoch :  416  | error :  [0.13992211]  | acc :  0.7903645833333334\n",
      "epoch :  417  | error :  [0.13982575]  | acc :  0.7903645833333334\n",
      "epoch :  418  | error :  [0.13972962]  | acc :  0.7890625\n",
      "epoch :  419  | error :  [0.13963376]  | acc :  0.7877604166666666\n",
      "epoch :  420  | error :  [0.13953825]  | acc :  0.7890625\n",
      "epoch :  421  | error :  [0.13944318]  | acc :  0.7903645833333334\n",
      "epoch :  422  | error :  [0.13934867]  | acc :  0.7903645833333334\n",
      "epoch :  423  | error :  [0.13925486]  | acc :  0.7903645833333334\n",
      "epoch :  424  | error :  [0.13916193]  | acc :  0.7903645833333334\n",
      "epoch :  425  | error :  [0.13907004]  | acc :  0.7903645833333334\n",
      "epoch :  426  | error :  [0.13897937]  | acc :  0.7916666666666666\n",
      "epoch :  427  | error :  [0.13889007]  | acc :  0.79296875\n",
      "epoch :  428  | error :  [0.1388023]  | acc :  0.79296875\n",
      "epoch :  429  | error :  [0.13871618]  | acc :  0.79296875\n",
      "epoch :  430  | error :  [0.13863181]  | acc :  0.79296875\n",
      "epoch :  431  | error :  [0.13854925]  | acc :  0.7916666666666666\n",
      "epoch :  432  | error :  [0.13846857]  | acc :  0.7916666666666666\n",
      "epoch :  433  | error :  [0.13838979]  | acc :  0.7916666666666666\n",
      "epoch :  434  | error :  [0.13831294]  | acc :  0.7916666666666666\n",
      "epoch :  435  | error :  [0.13823806]  | acc :  0.7916666666666666\n",
      "epoch :  436  | error :  [0.13816516]  | acc :  0.79296875\n",
      "epoch :  437  | error :  [0.13809431]  | acc :  0.79296875\n",
      "epoch :  438  | error :  [0.13802557]  | acc :  0.7942708333333334\n",
      "epoch :  439  | error :  [0.13795903]  | acc :  0.7942708333333334\n",
      "epoch :  440  | error :  [0.13789482]  | acc :  0.7955729166666666\n",
      "epoch :  441  | error :  [0.13783308]  | acc :  0.7955729166666666\n",
      "epoch :  442  | error :  [0.13777395]  | acc :  0.7955729166666666\n",
      "epoch :  443  | error :  [0.1377176]  | acc :  0.7955729166666666\n",
      "epoch :  444  | error :  [0.1376642]  | acc :  0.796875\n",
      "epoch :  445  | error :  [0.13761393]  | acc :  0.7981770833333334\n",
      "epoch :  446  | error :  [0.13756694]  | acc :  0.7981770833333334\n",
      "epoch :  447  | error :  [0.13752337]  | acc :  0.796875\n",
      "epoch :  448  | error :  [0.13748335]  | acc :  0.796875\n",
      "epoch :  449  | error :  [0.13744694]  | acc :  0.796875\n",
      "epoch :  450  | error :  [0.1374142]  | acc :  0.7955729166666666\n",
      "epoch :  451  | error :  [0.13738514]  | acc :  0.7994791666666666\n",
      "epoch :  452  | error :  [0.13735969]  | acc :  0.7994791666666666\n",
      "epoch :  453  | error :  [0.13733773]  | acc :  0.7994791666666666\n",
      "epoch :  454  | error :  [0.13731905]  | acc :  0.80078125\n",
      "epoch :  455  | error :  [0.1373033]  | acc :  0.8020833333333334\n",
      "epoch :  456  | error :  [0.13728999]  | acc :  0.80078125\n",
      "epoch :  457  | error :  [0.1372784]  | acc :  0.7994791666666666\n",
      "epoch :  458  | error :  [0.13726758]  | acc :  0.7994791666666666\n",
      "epoch :  459  | error :  [0.13725649]  | acc :  0.7994791666666666\n",
      "epoch :  460  | error :  [0.13724417]  | acc :  0.7994791666666666\n",
      "epoch :  461  | error :  [0.13723014]  | acc :  0.80078125\n",
      "epoch :  462  | error :  [0.13721456]  | acc :  0.80078125\n",
      "epoch :  463  | error :  [0.13719817]  | acc :  0.7994791666666666\n",
      "epoch :  464  | error :  [0.13718199]  | acc :  0.80078125\n",
      "epoch :  465  | error :  [0.13716691]  | acc :  0.80078125\n",
      "epoch :  466  | error :  [0.13715351]  | acc :  0.80078125\n",
      "epoch :  467  | error :  [0.13714206]  | acc :  0.80078125\n",
      "epoch :  468  | error :  [0.13713254]  | acc :  0.80078125\n",
      "epoch :  469  | error :  [0.13712475]  | acc :  0.80078125\n",
      "epoch :  470  | error :  [0.13711835]  | acc :  0.7994791666666666\n",
      "epoch :  471  | error :  [0.13711297]  | acc :  0.7994791666666666\n",
      "epoch :  472  | error :  [0.13710821]  | acc :  0.7994791666666666\n",
      "epoch :  473  | error :  [0.13710373]  | acc :  0.7994791666666666\n",
      "epoch :  474  | error :  [0.13709924]  | acc :  0.7981770833333334\n",
      "epoch :  475  | error :  [0.13709457]  | acc :  0.7981770833333334\n",
      "epoch :  476  | error :  [0.1370896]  | acc :  0.796875\n",
      "epoch :  477  | error :  [0.13708434]  | acc :  0.796875\n",
      "epoch :  478  | error :  [0.13707885]  | acc :  0.796875\n",
      "epoch :  479  | error :  [0.13707322]  | acc :  0.796875\n",
      "epoch :  480  | error :  [0.13706752]  | acc :  0.796875\n",
      "epoch :  481  | error :  [0.13706181]  | acc :  0.796875\n",
      "epoch :  482  | error :  [0.13705609]  | acc :  0.7955729166666666\n",
      "epoch :  483  | error :  [0.13705026]  | acc :  0.7955729166666666\n",
      "epoch :  484  | error :  [0.13704417]  | acc :  0.7955729166666666\n",
      "epoch :  485  | error :  [0.13703753]  | acc :  0.7955729166666666\n",
      "epoch :  486  | error :  [0.13703001]  | acc :  0.7942708333333334\n",
      "epoch :  487  | error :  [0.13702118]  | acc :  0.7942708333333334\n",
      "epoch :  488  | error :  [0.13701059]  | acc :  0.79296875\n",
      "epoch :  489  | error :  [0.1369978]  | acc :  0.79296875\n",
      "epoch :  490  | error :  [0.1369824]  | acc :  0.796875\n",
      "epoch :  491  | error :  [0.13696409]  | acc :  0.7955729166666666\n",
      "epoch :  492  | error :  [0.13694268]  | acc :  0.796875\n",
      "epoch :  493  | error :  [0.13691814]  | acc :  0.796875\n",
      "epoch :  494  | error :  [0.13689056]  | acc :  0.7955729166666666\n",
      "epoch :  495  | error :  [0.13686015]  | acc :  0.7942708333333334\n",
      "epoch :  496  | error :  [0.1368272]  | acc :  0.79296875\n",
      "epoch :  497  | error :  [0.13679206]  | acc :  0.79296875\n",
      "epoch :  498  | error :  [0.1367551]  | acc :  0.7942708333333334\n",
      "epoch :  499  | error :  [0.13671666]  | acc :  0.7942708333333334\n"
     ]
    }
   ],
   "source": [
    "for epoch in range(epochs):\n",
    "  MSE = 0\n",
    "  new_target = np.zeros(len(target))\n",
    "  \n",
    "  for idx, inp in enumerate(input):\n",
    "    # A. Feedforward\n",
    "    # Hidden Layer1\n",
    "    o_hidden1 = np.matmul(input[idx], w_hidden1) + b_hidden1\n",
    "    o_hidden1 = sig(o_hidden1)\n",
    "    # Hidden Layer2\n",
    "    o_hidden2 = np.matmul(o_hidden1, w_hidden2) + b_hidden2\n",
    "    o_hidden2 = sig(o_hidden2)\n",
    "    # Outpur Layer\n",
    "    o_output  = np.matmul(o_hidden2, w_output) + b_output\n",
    "    o_output  = sig(o_output)\n",
    "    # Menghitung Error\n",
    "    error           = target[idx] - o_output\n",
    "    MSE             = MSE + (error*error)\n",
    "    new_target[idx] = o_output.round()\n",
    "    # Error hidden2->output\n",
    "    eh2             = error @ w_output.T\n",
    "    # Error hidden1->output \n",
    "    eh1             = eh2   @ w_hidden2.T\n",
    "\n",
    "    # B. Backpropagation\n",
    "    # Outpur Layer\n",
    "    w_output = w_output + (lr * ((error * o_output * (1 - o_output))* o_hidden2[np.newaxis].T))\n",
    "    b_output = b_output + (lr * ((error * o_output * (1 - o_output))))\n",
    "    # Hidden Layer2\n",
    "    w_hidden2 = w_hidden2 + (lr * (eh2 * o_hidden2 * (1 - o_hidden2))* o_hidden1[np.newaxis].T)\n",
    "    b_hidden2 = b_hidden2 + (lr * (eh2 * o_hidden2 * (1 - o_hidden2)))\n",
    "    # Hidden Layer1\n",
    "    w_hidden1 = w_hidden1 + (lr * (eh1 * o_hidden1 * (1 - o_hidden1))* input[idx][np.newaxis].T)\n",
    "    b_hidden1 = b_hidden1 + (lr * (eh1 * o_hidden1 * (1 - o_hidden1)))\n",
    "  \n",
    "  MSE = MSE/len(target)\n",
    "  acc = 1 - (np.sum(np.absolute(target-new_target))/len(target))\n",
    "  loss_values.append(MSE)\n",
    "  acc_values.append(acc)\n",
    "  print(\"epoch : \",epoch,\" | error : \",MSE,\" | acc : \",acc)"
   ]
  },
  {
   "cell_type": "code",
   "execution_count": 54,
   "metadata": {},
   "outputs": [
    {
     "data": {
      "image/png": "[encoded data removed]",
      "text/plain": [
       "<Figure size 432x288 with 1 Axes>"
      ]
     },
     "metadata": {
      "needs_background": "light"
     },
     "output_type": "display_data"
    },
    {
     "data": {
      "image/png": "[encoded data removed]",
      "text/plain": [
       "<Figure size 432x288 with 1 Axes>"
      ]
     },
     "metadata": {
      "needs_background": "light"
     },
     "output_type": "display_data"
    }
   ],
   "source": [
    "plot1 = plt.figure(1)\n",
    "plt.plot(loss_values)\n",
    "plt.title(\"Loss Values\")\n",
    "plt.show()\n",
    "\n",
    "plot2 = plt.figure(2)\n",
    "plt.plot(acc_values)\n",
    "plt.title(\"Accuracy Values\")\n",
    "plt.show()\n",
    "\n"
   ]
  },
  {
   "cell_type": "code",
   "execution_count": 11,
   "metadata": {
    "colab": {
     "base_uri": "https://localhost:8080/"
    },
    "executionInfo": {
     "elapsed": 387,
     "status": "ok",
     "timestamp": 1621696569190,
     "user": {
      "displayName": "Ivan Pakpahan",
      "photoUrl": "https://lh3.googleusercontent.com/a-/AOh14GhLBwAL8vhuqK5UGeWMktgqAByft0ql2mJg_1mb=s64",
      "userId": "08537336944096718331"
     },
     "user_tz": -420
    },
    "id": "xVpcAtuFL81l",
    "outputId": "f55161fa-80f2-4052-abc2-0b23e55c4902"
   },
   "outputs": [
    {
     "name": "stdout",
     "output_type": "stream",
     "text": [
      "[[  0.61305676  -0.9889728  -15.51399658  26.29728341  -7.68014936]\n",
      " [  9.75191971 -13.54285323  -8.75856776  30.59744081  14.76886088]\n",
      " [  0.25170678   0.30909442 -10.52381957  -5.19382665  -5.91915176]\n",
      " [ 22.76510751 -21.59742409 -19.812946    -3.38095048   5.46009753]\n",
      " [ 21.95595292   1.33654705   0.9966477    5.16238168  -5.96016499]]\n",
      "[-23.02010885  16.5106752   20.06090592 -22.60935443 -13.84144676]\n",
      "[[ 1.44578683]\n",
      " [-1.43225927]\n",
      " [-0.04848296]\n",
      " [ 1.94794224]\n",
      " [12.15063398]]\n",
      "[-1.43324409]\n"
     ]
    }
   ],
   "source": [
    "print(w_hidden)\n",
    "print(b_hidden)\n",
    "print(w_output)\n",
    "print(b_output)"
   ]
  },
  {
   "cell_type": "code",
   "execution_count": 13,
   "metadata": {},
   "outputs": [],
   "source": [
    "def predict(data):\n",
    "    HasilPredict = []\n",
    "    for i in data:\n",
    "        print(i)\n",
    "        # Hidden Layer\n",
    "        o_hidden = np.matmul(i, w_hidden) + b_hidden\n",
    "        o_hidden = sig(o_hidden)\n",
    "        # Outpur Layer\n",
    "        o_output = np.matmul(o_hidden, w_output) + b_output\n",
    "        o_output = sig(o_output)\n",
    "        HasilPredict.append(o_output.round())\n",
    "    return HasilPredict"
   ]
  },
  {
   "cell_type": "code",
   "execution_count": 14,
   "metadata": {
    "colab": {
     "base_uri": "https://localhost:8080/",
     "height": 359
    },
    "executionInfo": {
     "elapsed": 378,
     "status": "ok",
     "timestamp": 1621697156573,
     "user": {
      "displayName": "Ivan Pakpahan",
      "photoUrl": "https://lh3.googleusercontent.com/a-/AOh14GhLBwAL8vhuqK5UGeWMktgqAByft0ql2mJg_1mb=s64",
      "userId": "08537336944096718331"
     },
     "user_tz": -420
    },
    "id": "oslu3OPQrqiv",
    "outputId": "e203a36c-c745-45b3-8460-503e766784e3"
   },
   "outputs": [
    {
     "data": {
      "text/html": [
       "<div>\n",
       "<style scoped>\n",
       "    .dataframe tbody tr th:only-of-type {\n",
       "        vertical-align: middle;\n",
       "    }\n",
       "\n",
       "    .dataframe tbody tr th {\n",
       "        vertical-align: top;\n",
       "    }\n",
       "\n",
       "    .dataframe thead th {\n",
       "        text-align: right;\n",
       "    }\n",
       "</style>\n",
       "<table border=\"1\" class=\"dataframe\">\n",
       "  <thead>\n",
       "    <tr style=\"text-align: right;\">\n",
       "      <th></th>\n",
       "      <th>Pregnancies</th>\n",
       "      <th>Glucose</th>\n",
       "      <th>BloodPressure</th>\n",
       "      <th>SkinThickness</th>\n",
       "      <th>Insulin</th>\n",
       "      <th>BMI</th>\n",
       "      <th>DiabetesPedigreeFunction</th>\n",
       "      <th>Age</th>\n",
       "      <th>Outcome</th>\n",
       "    </tr>\n",
       "  </thead>\n",
       "  <tbody>\n",
       "    <tr>\n",
       "      <th>758</th>\n",
       "      <td>0.058824</td>\n",
       "      <td>0.532663</td>\n",
       "      <td>0.622951</td>\n",
       "      <td>0.000000</td>\n",
       "      <td>0.000000</td>\n",
       "      <td>0.558867</td>\n",
       "      <td>0.050811</td>\n",
       "      <td>0.083333</td>\n",
       "      <td>0</td>\n",
       "    </tr>\n",
       "    <tr>\n",
       "      <th>759</th>\n",
       "      <td>0.352941</td>\n",
       "      <td>0.954774</td>\n",
       "      <td>0.754098</td>\n",
       "      <td>0.000000</td>\n",
       "      <td>0.000000</td>\n",
       "      <td>0.529061</td>\n",
       "      <td>0.085397</td>\n",
       "      <td>0.750000</td>\n",
       "      <td>1</td>\n",
       "    </tr>\n",
       "    <tr>\n",
       "      <th>760</th>\n",
       "      <td>0.117647</td>\n",
       "      <td>0.442211</td>\n",
       "      <td>0.475410</td>\n",
       "      <td>0.262626</td>\n",
       "      <td>0.018913</td>\n",
       "      <td>0.423249</td>\n",
       "      <td>0.293766</td>\n",
       "      <td>0.016667</td>\n",
       "      <td>0</td>\n",
       "    </tr>\n",
       "    <tr>\n",
       "      <th>761</th>\n",
       "      <td>0.529412</td>\n",
       "      <td>0.854271</td>\n",
       "      <td>0.606557</td>\n",
       "      <td>0.313131</td>\n",
       "      <td>0.000000</td>\n",
       "      <td>0.655738</td>\n",
       "      <td>0.138770</td>\n",
       "      <td>0.366667</td>\n",
       "      <td>1</td>\n",
       "    </tr>\n",
       "    <tr>\n",
       "      <th>762</th>\n",
       "      <td>0.529412</td>\n",
       "      <td>0.447236</td>\n",
       "      <td>0.508197</td>\n",
       "      <td>0.000000</td>\n",
       "      <td>0.000000</td>\n",
       "      <td>0.335320</td>\n",
       "      <td>0.027327</td>\n",
       "      <td>0.200000</td>\n",
       "      <td>0</td>\n",
       "    </tr>\n",
       "    <tr>\n",
       "      <th>763</th>\n",
       "      <td>0.588235</td>\n",
       "      <td>0.507538</td>\n",
       "      <td>0.622951</td>\n",
       "      <td>0.484848</td>\n",
       "      <td>0.212766</td>\n",
       "      <td>0.490313</td>\n",
       "      <td>0.039710</td>\n",
       "      <td>0.700000</td>\n",
       "      <td>0</td>\n",
       "    </tr>\n",
       "    <tr>\n",
       "      <th>764</th>\n",
       "      <td>0.117647</td>\n",
       "      <td>0.613065</td>\n",
       "      <td>0.573770</td>\n",
       "      <td>0.272727</td>\n",
       "      <td>0.000000</td>\n",
       "      <td>0.548435</td>\n",
       "      <td>0.111870</td>\n",
       "      <td>0.100000</td>\n",
       "      <td>0</td>\n",
       "    </tr>\n",
       "    <tr>\n",
       "      <th>765</th>\n",
       "      <td>0.294118</td>\n",
       "      <td>0.608040</td>\n",
       "      <td>0.590164</td>\n",
       "      <td>0.232323</td>\n",
       "      <td>0.132388</td>\n",
       "      <td>0.390462</td>\n",
       "      <td>0.071307</td>\n",
       "      <td>0.150000</td>\n",
       "      <td>0</td>\n",
       "    </tr>\n",
       "    <tr>\n",
       "      <th>766</th>\n",
       "      <td>0.058824</td>\n",
       "      <td>0.633166</td>\n",
       "      <td>0.491803</td>\n",
       "      <td>0.000000</td>\n",
       "      <td>0.000000</td>\n",
       "      <td>0.448584</td>\n",
       "      <td>0.115713</td>\n",
       "      <td>0.433333</td>\n",
       "      <td>1</td>\n",
       "    </tr>\n",
       "    <tr>\n",
       "      <th>767</th>\n",
       "      <td>0.058824</td>\n",
       "      <td>0.467337</td>\n",
       "      <td>0.573770</td>\n",
       "      <td>0.313131</td>\n",
       "      <td>0.000000</td>\n",
       "      <td>0.453055</td>\n",
       "      <td>0.101196</td>\n",
       "      <td>0.033333</td>\n",
       "      <td>0</td>\n",
       "    </tr>\n",
       "  </tbody>\n",
       "</table>\n",
       "</div>"
      ],
      "text/plain": [
       "     Pregnancies   Glucose  BloodPressure  SkinThickness   Insulin       BMI  \\\n",
       "758     0.058824  0.532663       0.622951       0.000000  0.000000  0.558867   \n",
       "759     0.352941  0.954774       0.754098       0.000000  0.000000  0.529061   \n",
       "760     0.117647  0.442211       0.475410       0.262626  0.018913  0.423249   \n",
       "761     0.529412  0.854271       0.606557       0.313131  0.000000  0.655738   \n",
       "762     0.529412  0.447236       0.508197       0.000000  0.000000  0.335320   \n",
       "763     0.588235  0.507538       0.622951       0.484848  0.212766  0.490313   \n",
       "764     0.117647  0.613065       0.573770       0.272727  0.000000  0.548435   \n",
       "765     0.294118  0.608040       0.590164       0.232323  0.132388  0.390462   \n",
       "766     0.058824  0.633166       0.491803       0.000000  0.000000  0.448584   \n",
       "767     0.058824  0.467337       0.573770       0.313131  0.000000  0.453055   \n",
       "\n",
       "     DiabetesPedigreeFunction       Age  Outcome  \n",
       "758                  0.050811  0.083333        0  \n",
       "759                  0.085397  0.750000        1  \n",
       "760                  0.293766  0.016667        0  \n",
       "761                  0.138770  0.366667        1  \n",
       "762                  0.027327  0.200000        0  \n",
       "763                  0.039710  0.700000        0  \n",
       "764                  0.111870  0.100000        0  \n",
       "765                  0.071307  0.150000        0  \n",
       "766                  0.115713  0.433333        1  \n",
       "767                  0.101196  0.033333        0  "
      ]
     },
     "execution_count": 14,
     "metadata": {},
     "output_type": "execute_result"
    }
   ],
   "source": [
    "data_test"
   ]
  },
  {
   "cell_type": "code",
   "execution_count": 16,
   "metadata": {
    "colab": {
     "base_uri": "https://localhost:8080/"
    },
    "executionInfo": {
     "elapsed": 401,
     "status": "ok",
     "timestamp": 1621697345136,
     "user": {
      "displayName": "Ivan Pakpahan",
      "photoUrl": "https://lh3.googleusercontent.com/a-/AOh14GhLBwAL8vhuqK5UGeWMktgqAByft0ql2mJg_1mb=s64",
      "userId": "08537336944096718331"
     },
     "user_tz": -420
    },
    "id": "88wzVYLCq4Ci",
    "outputId": "febfb432-6cee-401d-87d9-baeef807cb84"
   },
   "outputs": [
    {
     "data": {
      "text/plain": [
       "array([[0.05882353, 0.53266332, 0.62295082, 0.55886736, 0.05081127],\n",
       "       [0.35294118, 0.95477387, 0.75409836, 0.5290611 , 0.0853971 ],\n",
       "       [0.11764706, 0.44221106, 0.47540984, 0.42324888, 0.29376601],\n",
       "       [0.52941176, 0.85427136, 0.60655738, 0.6557377 , 0.13877028],\n",
       "       [0.52941176, 0.44723618, 0.50819672, 0.33532042, 0.02732707],\n",
       "       [0.58823529, 0.50753769, 0.62295082, 0.49031297, 0.03970965],\n",
       "       [0.11764706, 0.61306533, 0.57377049, 0.54843517, 0.1118702 ],\n",
       "       [0.29411765, 0.6080402 , 0.59016393, 0.390462  , 0.07130658],\n",
       "       [0.05882353, 0.63316583, 0.49180328, 0.4485842 , 0.11571307],\n",
       "       [0.05882353, 0.46733668, 0.57377049, 0.45305514, 0.10119556]])"
      ]
     },
     "execution_count": 16,
     "metadata": {},
     "output_type": "execute_result"
    }
   ],
   "source": [
    "data_testing = data_test[['Pregnancies', 'Glucose', 'BloodPressure', 'BMI', 'DiabetesPedigreeFunction']].values\n",
    "data_testing"
   ]
  },
  {
   "cell_type": "code",
   "execution_count": 17,
   "metadata": {},
   "outputs": [
    {
     "name": "stdout",
     "output_type": "stream",
     "text": [
      "[0.05882353 0.53266332 0.62295082 0.55886736 0.05081127]\n",
      "[0.35294118 0.95477387 0.75409836 0.5290611  0.0853971 ]\n",
      "[0.11764706 0.44221106 0.47540984 0.42324888 0.29376601]\n",
      "[0.52941176 0.85427136 0.60655738 0.6557377  0.13877028]\n",
      "[0.52941176 0.44723618 0.50819672 0.33532042 0.02732707]\n",
      "[0.58823529 0.50753769 0.62295082 0.49031297 0.03970965]\n",
      "[0.11764706 0.61306533 0.57377049 0.54843517 0.1118702 ]\n",
      "[0.29411765 0.6080402  0.59016393 0.390462   0.07130658]\n",
      "[0.05882353 0.63316583 0.49180328 0.4485842  0.11571307]\n",
      "[0.05882353 0.46733668 0.57377049 0.45305514 0.10119556]\n",
      "[array([0.]), array([1.]), array([0.]), array([1.]), array([0.]), array([1.]), array([0.]), array([0.]), array([0.]), array([0.])]\n"
     ]
    }
   ],
   "source": [
    "Prediksi = predict(data_testing)\n",
    "print(Prediksi)"
   ]
  },
  {
   "cell_type": "code",
   "execution_count": 56,
   "metadata": {},
   "outputs": [
    {
     "data": {
      "text/plain": [
       "'Pregnancies'"
      ]
     },
     "metadata": {},
     "output_type": "display_data"
    },
    {
     "data": {
      "application/vnd.jupyter.widget-view+json": {
       "model_id": "f1b027bf77b441199b2980ceb4764fed",
       "version_major": 2,
       "version_minor": 0
      },
      "text/plain": [
       "Text(value='')"
      ]
     },
     "metadata": {},
     "output_type": "display_data"
    },
    {
     "data": {
      "text/plain": [
       "'Glucose'"
      ]
     },
     "metadata": {},
     "output_type": "display_data"
    },
    {
     "data": {
      "application/vnd.jupyter.widget-view+json": {
       "model_id": "47ca43598d0a41b4b364205b794cdc1c",
       "version_major": 2,
       "version_minor": 0
      },
      "text/plain": [
       "Text(value='')"
      ]
     },
     "metadata": {},
     "output_type": "display_data"
    },
    {
     "data": {
      "text/plain": [
       "'Blood Pressure'"
      ]
     },
     "metadata": {},
     "output_type": "display_data"
    },
    {
     "data": {
      "application/vnd.jupyter.widget-view+json": {
       "model_id": "c9c37a0b955d4311a5df67216f133936",
       "version_major": 2,
       "version_minor": 0
      },
      "text/plain": [
       "Text(value='')"
      ]
     },
     "metadata": {},
     "output_type": "display_data"
    },
    {
     "data": {
      "text/plain": [
       "'BMI'"
      ]
     },
     "metadata": {},
     "output_type": "display_data"
    },
    {
     "data": {
      "application/vnd.jupyter.widget-view+json": {
       "model_id": "4f760fad7f78493daa4d3bfdc786b981",
       "version_major": 2,
       "version_minor": 0
      },
      "text/plain": [
       "Text(value='')"
      ]
     },
     "metadata": {},
     "output_type": "display_data"
    },
    {
     "data": {
      "text/plain": [
       "'Diabetes Pedigree Function'"
      ]
     },
     "metadata": {},
     "output_type": "display_data"
    },
    {
     "data": {
      "application/vnd.jupyter.widget-view+json": {
       "model_id": "0cb6bd482f674ee48a79249141001b79",
       "version_major": 2,
       "version_minor": 0
      },
      "text/plain": [
       "Text(value='')"
      ]
     },
     "metadata": {},
     "output_type": "display_data"
    },
    {
     "data": {
      "application/vnd.jupyter.widget-view+json": {
       "model_id": "47504f2e045b4f6eb045a6a89ed7a998",
       "version_major": 2,
       "version_minor": 0
      },
      "text/plain": [
       "Button(description='Prediksi', style=ButtonStyle())"
      ]
     },
     "metadata": {},
     "output_type": "display_data"
    },
    {
     "name": "stdout",
     "output_type": "stream",
     "text": [
      "[0.0, 1.0, 1.0, 1.0, 1.0]\n"
     ]
    },
    {
     "data": {
      "text/plain": [
       "'Result'"
      ]
     },
     "metadata": {},
     "output_type": "display_data"
    },
    {
     "data": {
      "application/vnd.jupyter.widget-view+json": {
       "model_id": "216a58def54e4a1e865ded54aca4afe0",
       "version_major": 2,
       "version_minor": 0
      },
      "text/plain": [
       "Text(value='1')"
      ]
     },
     "metadata": {},
     "output_type": "display_data"
    },
    {
     "name": "stdout",
     "output_type": "stream",
     "text": [
      "-----------------------------------------------------\n",
      "[0.0, 1.0, 0.2, 0.4, 0.3]\n"
     ]
    },
    {
     "data": {
      "text/plain": [
       "'Result'"
      ]
     },
     "metadata": {},
     "output_type": "display_data"
    },
    {
     "data": {
      "application/vnd.jupyter.widget-view+json": {
       "model_id": "418574609aef4714bf41ae7414ceace1",
       "version_major": 2,
       "version_minor": 0
      },
      "text/plain": [
       "Text(value='1')"
      ]
     },
     "metadata": {},
     "output_type": "display_data"
    },
    {
     "name": "stdout",
     "output_type": "stream",
     "text": [
      "-----------------------------------------------------\n"
     ]
    }
   ],
   "source": [
    "import ipywidgets as widgets \n",
    "from IPython.display import display\n",
    "\n",
    "Pregnancies = widgets.Text() \n",
    "display(\"Pregnancies\", Pregnancies)\n",
    "\n",
    "Glucose = widgets.Text() \n",
    "display(\"Glucose\", Glucose)\n",
    "\n",
    "Blood_Pressure = widgets.Text() \n",
    "display(\"Blood Pressure\", Blood_Pressure)\n",
    "\n",
    "BMI = widgets.Text() \n",
    "display(\"BMI\", BMI)\n",
    "\n",
    "Diabetes_Pedigree_Function = widgets.Text() \n",
    "display(\"Diabetes Pedigree Function\", Diabetes_Pedigree_Function)\n",
    "\n",
    "btn = widgets.Button(description='Prediksi') \n",
    "display(btn)\n",
    "\n",
    "def btn_eventhandler(obj): \n",
    "    result = (predict([[float(Pregnancies.value),float(Glucose.value),float(Blood_Pressure.value),float(BMI.value),float(Diabetes_Pedigree_Function.value)]])) \n",
    "    result = result[0]\n",
    "    result = int(result)\n",
    "    hasil = widgets.Text(str(result)) \n",
    "    display(\"Result\", hasil) \n",
    "    print('-----------------------------------------------------')\n",
    "\n",
    "btn.on_click(btn_eventhandler)"
   ]
  },
  {
   "cell_type": "code",
   "execution_count": null,
   "metadata": {},
   "outputs": [],
   "source": []
  },
  {
   "cell_type": "code",
   "execution_count": null,
   "metadata": {},
   "outputs": [],
   "source": []
  }
 ],
 "metadata": {
  "colab": {
   "authorship_tag": "ABX9TyOWj7/ok6h9iSRUoS6Z2rcD",
   "collapsed_sections": [],
   "mount_file_id": "127xRC-vY8yWtp0uPxVEKRQUETCAf--_Q",
   "name": "3__Backpropagasi.ipynb",
   "provenance": []
  },
  "kernelspec": {
   "display_name": "Python 3",
   "language": "python",
   "name": "python3"
  },
  "language_info": {
   "codemirror_mode": {
    "name": "ipython",
    "version": 3
   },
   "file_extension": ".py",
   "mimetype": "text/x-python",
   "name": "python",
   "nbconvert_exporter": "python",
   "pygments_lexer": "ipython3",
   "version": "3.7.7"
  },
  "metadata": {
   "interpreter": {
    "hash": "dac28e380f7dea8c88c3ac31818164fb0d0b8beb792687e3c6bc58530f20605c"
   }
  }
 },
 "nbformat": 4,
 "nbformat_minor": 1
}
