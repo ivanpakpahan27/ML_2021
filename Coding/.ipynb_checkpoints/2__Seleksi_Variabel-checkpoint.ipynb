{
 "cells": [
  {
   "cell_type": "code",
   "execution_count": 1,
   "metadata": {
    "executionInfo": {
     "elapsed": 990,
     "status": "ok",
     "timestamp": 1621401485295,
     "user": {
      "displayName": "Ivan Pakpahan",
      "photoUrl": "https://lh3.googleusercontent.com/a-/AOh14GhLBwAL8vhuqK5UGeWMktgqAByft0ql2mJg_1mb=s64",
      "userId": "08537336944096718331"
     },
     "user_tz": -420
    },
    "id": "PY_BWJuOexsM"
   },
   "outputs": [],
   "source": [
    "# Import library \n",
    "import pandas as pd\n",
    "import numpy as np\n",
    "from sklearn.model_selection import train_test_split"
   ]
  },
  {
   "cell_type": "code",
   "execution_count": 2,
   "metadata": {
    "colab": {
     "base_uri": "https://localhost:8080/",
     "height": 204
    },
    "executionInfo": {
     "elapsed": 1104,
     "status": "ok",
     "timestamp": 1621401489058,
     "user": {
      "displayName": "Ivan Pakpahan",
      "photoUrl": "https://lh3.googleusercontent.com/a-/AOh14GhLBwAL8vhuqK5UGeWMktgqAByft0ql2mJg_1mb=s64",
      "userId": "08537336944096718331"
     },
     "user_tz": -420
    },
    "id": "GS4ltZLLfE8H",
    "outputId": "31af9a66-388d-4fc8-ed07-75a6416cb5fe"
   },
   "outputs": [
    {
     "data": {
      "text/html": [
       "<div>\n",
       "<style scoped>\n",
       "    .dataframe tbody tr th:only-of-type {\n",
       "        vertical-align: middle;\n",
       "    }\n",
       "\n",
       "    .dataframe tbody tr th {\n",
       "        vertical-align: top;\n",
       "    }\n",
       "\n",
       "    .dataframe thead th {\n",
       "        text-align: right;\n",
       "    }\n",
       "</style>\n",
       "<table border=\"1\" class=\"dataframe\">\n",
       "  <thead>\n",
       "    <tr style=\"text-align: right;\">\n",
       "      <th></th>\n",
       "      <th>Pregnancies</th>\n",
       "      <th>Glucose</th>\n",
       "      <th>BloodPressure</th>\n",
       "      <th>SkinThickness</th>\n",
       "      <th>Insulin</th>\n",
       "      <th>BMI</th>\n",
       "      <th>DiabetesPedigreeFunction</th>\n",
       "      <th>Age</th>\n",
       "      <th>Outcome</th>\n",
       "    </tr>\n",
       "  </thead>\n",
       "  <tbody>\n",
       "    <tr>\n",
       "      <th>0</th>\n",
       "      <td>6</td>\n",
       "      <td>148</td>\n",
       "      <td>72</td>\n",
       "      <td>35</td>\n",
       "      <td>0</td>\n",
       "      <td>33.6</td>\n",
       "      <td>0.627</td>\n",
       "      <td>50</td>\n",
       "      <td>1</td>\n",
       "    </tr>\n",
       "    <tr>\n",
       "      <th>1</th>\n",
       "      <td>1</td>\n",
       "      <td>85</td>\n",
       "      <td>66</td>\n",
       "      <td>29</td>\n",
       "      <td>0</td>\n",
       "      <td>26.6</td>\n",
       "      <td>0.351</td>\n",
       "      <td>31</td>\n",
       "      <td>0</td>\n",
       "    </tr>\n",
       "    <tr>\n",
       "      <th>2</th>\n",
       "      <td>8</td>\n",
       "      <td>183</td>\n",
       "      <td>64</td>\n",
       "      <td>0</td>\n",
       "      <td>0</td>\n",
       "      <td>23.3</td>\n",
       "      <td>0.672</td>\n",
       "      <td>32</td>\n",
       "      <td>1</td>\n",
       "    </tr>\n",
       "    <tr>\n",
       "      <th>3</th>\n",
       "      <td>1</td>\n",
       "      <td>89</td>\n",
       "      <td>66</td>\n",
       "      <td>23</td>\n",
       "      <td>94</td>\n",
       "      <td>28.1</td>\n",
       "      <td>0.167</td>\n",
       "      <td>21</td>\n",
       "      <td>0</td>\n",
       "    </tr>\n",
       "    <tr>\n",
       "      <th>4</th>\n",
       "      <td>0</td>\n",
       "      <td>137</td>\n",
       "      <td>40</td>\n",
       "      <td>35</td>\n",
       "      <td>168</td>\n",
       "      <td>43.1</td>\n",
       "      <td>2.288</td>\n",
       "      <td>33</td>\n",
       "      <td>1</td>\n",
       "    </tr>\n",
       "  </tbody>\n",
       "</table>\n",
       "</div>"
      ],
      "text/plain": [
       "   Pregnancies  Glucose  BloodPressure  SkinThickness  Insulin   BMI  \\\n",
       "0            6      148             72             35        0  33.6   \n",
       "1            1       85             66             29        0  26.6   \n",
       "2            8      183             64              0        0  23.3   \n",
       "3            1       89             66             23       94  28.1   \n",
       "4            0      137             40             35      168  43.1   \n",
       "\n",
       "   DiabetesPedigreeFunction  Age  Outcome  \n",
       "0                     0.627   50        1  \n",
       "1                     0.351   31        0  \n",
       "2                     0.672   32        1  \n",
       "3                     0.167   21        0  \n",
       "4                     2.288   33        1  "
      ]
     },
     "execution_count": 2,
     "metadata": {},
     "output_type": "execute_result"
    }
   ],
   "source": [
    "# Import dataset\n",
    "df = pd.read_csv('Dataset/diabetes.csv')\n",
    "df.head()"
   ]
  },
  {
   "cell_type": "code",
   "execution_count": 3,
   "metadata": {
    "executionInfo": {
     "elapsed": 1143,
     "status": "ok",
     "timestamp": 1621401492198,
     "user": {
      "displayName": "Ivan Pakpahan",
      "photoUrl": "https://lh3.googleusercontent.com/a-/AOh14GhLBwAL8vhuqK5UGeWMktgqAByft0ql2mJg_1mb=s64",
      "userId": "08537336944096718331"
     },
     "user_tz": -420
    },
    "id": "LpcAGS_kfIFO"
   },
   "outputs": [],
   "source": [
    "# Split dataframe ke variabel dependen dan variabel independen \n",
    "x = df[['Pregnancies', 'Glucose', 'BloodPressure', 'SkinThickness', 'Insulin', 'BMI', 'DiabetesPedigreeFunction', 'Age' ]]\n",
    "y = df['Outcome']"
   ]
  },
  {
   "cell_type": "code",
   "execution_count": 4,
   "metadata": {
    "colab": {
     "base_uri": "https://localhost:8080/",
     "height": 204
    },
    "executionInfo": {
     "elapsed": 682,
     "status": "ok",
     "timestamp": 1621401499710,
     "user": {
      "displayName": "Ivan Pakpahan",
      "photoUrl": "https://lh3.googleusercontent.com/a-/AOh14GhLBwAL8vhuqK5UGeWMktgqAByft0ql2mJg_1mb=s64",
      "userId": "08537336944096718331"
     },
     "user_tz": -420
    },
    "id": "vqsnHppSfLM-",
    "outputId": "dadc0861-b288-4339-ca6a-4a7ed4c639ab"
   },
   "outputs": [
    {
     "data": {
      "text/html": [
       "<div>\n",
       "<style scoped>\n",
       "    .dataframe tbody tr th:only-of-type {\n",
       "        vertical-align: middle;\n",
       "    }\n",
       "\n",
       "    .dataframe tbody tr th {\n",
       "        vertical-align: top;\n",
       "    }\n",
       "\n",
       "    .dataframe thead th {\n",
       "        text-align: right;\n",
       "    }\n",
       "</style>\n",
       "<table border=\"1\" class=\"dataframe\">\n",
       "  <thead>\n",
       "    <tr style=\"text-align: right;\">\n",
       "      <th></th>\n",
       "      <th>Pregnancies</th>\n",
       "      <th>Glucose</th>\n",
       "      <th>BloodPressure</th>\n",
       "      <th>SkinThickness</th>\n",
       "      <th>Insulin</th>\n",
       "      <th>BMI</th>\n",
       "      <th>DiabetesPedigreeFunction</th>\n",
       "      <th>Age</th>\n",
       "    </tr>\n",
       "  </thead>\n",
       "  <tbody>\n",
       "    <tr>\n",
       "      <th>0</th>\n",
       "      <td>6</td>\n",
       "      <td>148</td>\n",
       "      <td>72</td>\n",
       "      <td>35</td>\n",
       "      <td>0</td>\n",
       "      <td>33.6</td>\n",
       "      <td>0.627</td>\n",
       "      <td>50</td>\n",
       "    </tr>\n",
       "    <tr>\n",
       "      <th>1</th>\n",
       "      <td>1</td>\n",
       "      <td>85</td>\n",
       "      <td>66</td>\n",
       "      <td>29</td>\n",
       "      <td>0</td>\n",
       "      <td>26.6</td>\n",
       "      <td>0.351</td>\n",
       "      <td>31</td>\n",
       "    </tr>\n",
       "    <tr>\n",
       "      <th>2</th>\n",
       "      <td>8</td>\n",
       "      <td>183</td>\n",
       "      <td>64</td>\n",
       "      <td>0</td>\n",
       "      <td>0</td>\n",
       "      <td>23.3</td>\n",
       "      <td>0.672</td>\n",
       "      <td>32</td>\n",
       "    </tr>\n",
       "    <tr>\n",
       "      <th>3</th>\n",
       "      <td>1</td>\n",
       "      <td>89</td>\n",
       "      <td>66</td>\n",
       "      <td>23</td>\n",
       "      <td>94</td>\n",
       "      <td>28.1</td>\n",
       "      <td>0.167</td>\n",
       "      <td>21</td>\n",
       "    </tr>\n",
       "    <tr>\n",
       "      <th>4</th>\n",
       "      <td>0</td>\n",
       "      <td>137</td>\n",
       "      <td>40</td>\n",
       "      <td>35</td>\n",
       "      <td>168</td>\n",
       "      <td>43.1</td>\n",
       "      <td>2.288</td>\n",
       "      <td>33</td>\n",
       "    </tr>\n",
       "  </tbody>\n",
       "</table>\n",
       "</div>"
      ],
      "text/plain": [
       "   Pregnancies  Glucose  BloodPressure  SkinThickness  Insulin   BMI  \\\n",
       "0            6      148             72             35        0  33.6   \n",
       "1            1       85             66             29        0  26.6   \n",
       "2            8      183             64              0        0  23.3   \n",
       "3            1       89             66             23       94  28.1   \n",
       "4            0      137             40             35      168  43.1   \n",
       "\n",
       "   DiabetesPedigreeFunction  Age  \n",
       "0                     0.627   50  \n",
       "1                     0.351   31  \n",
       "2                     0.672   32  \n",
       "3                     0.167   21  \n",
       "4                     2.288   33  "
      ]
     },
     "execution_count": 4,
     "metadata": {},
     "output_type": "execute_result"
    }
   ],
   "source": [
    "x.head()"
   ]
  },
  {
   "cell_type": "code",
   "execution_count": 5,
   "metadata": {
    "colab": {
     "base_uri": "https://localhost:8080/"
    },
    "executionInfo": {
     "elapsed": 1678,
     "status": "ok",
     "timestamp": 1621401502882,
     "user": {
      "displayName": "Ivan Pakpahan",
      "photoUrl": "https://lh3.googleusercontent.com/a-/AOh14GhLBwAL8vhuqK5UGeWMktgqAByft0ql2mJg_1mb=s64",
      "userId": "08537336944096718331"
     },
     "user_tz": -420
    },
    "id": "5gtzt3hbfN6G",
    "outputId": "e3ee3542-5172-48e1-bb2f-9ca01b45cb0f"
   },
   "outputs": [
    {
     "data": {
      "text/plain": [
       "0    1\n",
       "1    0\n",
       "2    1\n",
       "3    0\n",
       "4    1\n",
       "Name: Outcome, dtype: int64"
      ]
     },
     "execution_count": 5,
     "metadata": {},
     "output_type": "execute_result"
    }
   ],
   "source": [
    "y.head()"
   ]
  },
  {
   "cell_type": "code",
   "execution_count": 6,
   "metadata": {
    "colab": {
     "base_uri": "https://localhost:8080/"
    },
    "executionInfo": {
     "elapsed": 874,
     "status": "ok",
     "timestamp": 1621401506146,
     "user": {
      "displayName": "Ivan Pakpahan",
      "photoUrl": "https://lh3.googleusercontent.com/a-/AOh14GhLBwAL8vhuqK5UGeWMktgqAByft0ql2mJg_1mb=s64",
      "userId": "08537336944096718331"
     },
     "user_tz": -420
    },
    "id": "xYOqpOd1fRGl",
    "outputId": "bdbd2517-b521-42c0-d61b-6bc217d9ecc0"
   },
   "outputs": [
    {
     "name": "stdout",
     "output_type": "stream",
     "text": [
      "<class 'pandas.core.frame.DataFrame'>\n",
      "RangeIndex: 768 entries, 0 to 767\n",
      "Data columns (total 8 columns):\n",
      " #   Column                    Non-Null Count  Dtype  \n",
      "---  ------                    --------------  -----  \n",
      " 0   Pregnancies               768 non-null    int64  \n",
      " 1   Glucose                   768 non-null    int64  \n",
      " 2   BloodPressure             768 non-null    int64  \n",
      " 3   SkinThickness             768 non-null    int64  \n",
      " 4   Insulin                   768 non-null    int64  \n",
      " 5   BMI                       768 non-null    float64\n",
      " 6   DiabetesPedigreeFunction  768 non-null    float64\n",
      " 7   Age                       768 non-null    int64  \n",
      "dtypes: float64(2), int64(6)\n",
      "memory usage: 48.1 KB\n"
     ]
    }
   ],
   "source": [
    "# since the state is a string datatype column we need to encode it.\n",
    "# x = pd.get_dummies(x)\n",
    "x.info()"
   ]
  },
  {
   "cell_type": "code",
   "execution_count": 7,
   "metadata": {
    "executionInfo": {
     "elapsed": 666,
     "status": "ok",
     "timestamp": 1621401510422,
     "user": {
      "displayName": "Ivan Pakpahan",
      "photoUrl": "https://lh3.googleusercontent.com/a-/AOh14GhLBwAL8vhuqK5UGeWMktgqAByft0ql2mJg_1mb=s64",
      "userId": "08537336944096718331"
     },
     "user_tz": -420
    },
    "id": "3ENWMvvjgi02"
   },
   "outputs": [],
   "source": [
    "x_train, x_test, y_train, y_test = train_test_split(\n",
    "        x, y, test_size = 0.3, random_state = 0)\n",
    "from sklearn.linear_model import LinearRegression\n",
    "lm = LinearRegression()\n",
    "lm.fit(x_train, y_train)\n",
    "pred = lm.predict(x_test)"
   ]
  },
  {
   "cell_type": "code",
   "execution_count": 8,
   "metadata": {
    "colab": {
     "base_uri": "https://localhost:8080/",
     "height": 625
    },
    "executionInfo": {
     "elapsed": 1336,
     "status": "ok",
     "timestamp": 1621401515101,
     "user": {
      "displayName": "Ivan Pakpahan",
      "photoUrl": "https://lh3.googleusercontent.com/a-/AOh14GhLBwAL8vhuqK5UGeWMktgqAByft0ql2mJg_1mb=s64",
      "userId": "08537336944096718331"
     },
     "user_tz": -420
    },
    "id": "iIVIK0ZgglBp",
    "outputId": "dfa55ea2-317c-4f63-b0d0-a4b88f8e1527"
   },
   "outputs": [
    {
     "data": {
      "text/html": [
       "<table class=\"simpletable\">\n",
       "<caption>OLS Regression Results</caption>\n",
       "<tr>\n",
       "  <th>Dep. Variable:</th>         <td>Outcome</td>     <th>  R-squared:         </th> <td>   0.303</td>\n",
       "</tr>\n",
       "<tr>\n",
       "  <th>Model:</th>                   <td>OLS</td>       <th>  Adj. R-squared:    </th> <td>   0.296</td>\n",
       "</tr>\n",
       "<tr>\n",
       "  <th>Method:</th>             <td>Least Squares</td>  <th>  F-statistic:       </th> <td>   41.29</td>\n",
       "</tr>\n",
       "<tr>\n",
       "  <th>Date:</th>             <td>Thu, 03 Jun 2021</td> <th>  Prob (F-statistic):</th> <td>7.36e-55</td>\n",
       "</tr>\n",
       "<tr>\n",
       "  <th>Time:</th>                 <td>19:19:07</td>     <th>  Log-Likelihood:    </th> <td> -381.91</td>\n",
       "</tr>\n",
       "<tr>\n",
       "  <th>No. Observations:</th>      <td>   768</td>      <th>  AIC:               </th> <td>   781.8</td>\n",
       "</tr>\n",
       "<tr>\n",
       "  <th>Df Residuals:</th>          <td>   759</td>      <th>  BIC:               </th> <td>   823.6</td>\n",
       "</tr>\n",
       "<tr>\n",
       "  <th>Df Model:</th>              <td>     8</td>      <th>                     </th>     <td> </td>   \n",
       "</tr>\n",
       "<tr>\n",
       "  <th>Covariance Type:</th>      <td>nonrobust</td>    <th>                     </th>     <td> </td>   \n",
       "</tr>\n",
       "</table>\n",
       "<table class=\"simpletable\">\n",
       "<tr>\n",
       "    <td></td>       <th>coef</th>     <th>std err</th>      <th>t</th>      <th>P>|t|</th>  <th>[0.025</th>    <th>0.975]</th>  \n",
       "</tr>\n",
       "<tr>\n",
       "  <th>const</th> <td>   -0.8539</td> <td>    0.085</td> <td>   -9.989</td> <td> 0.000</td> <td>   -1.022</td> <td>   -0.686</td>\n",
       "</tr>\n",
       "<tr>\n",
       "  <th>x1</th>    <td>    0.0206</td> <td>    0.005</td> <td>    4.014</td> <td> 0.000</td> <td>    0.011</td> <td>    0.031</td>\n",
       "</tr>\n",
       "<tr>\n",
       "  <th>x2</th>    <td>    0.0059</td> <td>    0.001</td> <td>   11.493</td> <td> 0.000</td> <td>    0.005</td> <td>    0.007</td>\n",
       "</tr>\n",
       "<tr>\n",
       "  <th>x3</th>    <td>   -0.0023</td> <td>    0.001</td> <td>   -2.873</td> <td> 0.004</td> <td>   -0.004</td> <td>   -0.001</td>\n",
       "</tr>\n",
       "<tr>\n",
       "  <th>x4</th>    <td>    0.0002</td> <td>    0.001</td> <td>    0.139</td> <td> 0.890</td> <td>   -0.002</td> <td>    0.002</td>\n",
       "</tr>\n",
       "<tr>\n",
       "  <th>x5</th>    <td>   -0.0002</td> <td>    0.000</td> <td>   -1.205</td> <td> 0.229</td> <td>   -0.000</td> <td>    0.000</td>\n",
       "</tr>\n",
       "<tr>\n",
       "  <th>x6</th>    <td>    0.0132</td> <td>    0.002</td> <td>    6.344</td> <td> 0.000</td> <td>    0.009</td> <td>    0.017</td>\n",
       "</tr>\n",
       "<tr>\n",
       "  <th>x7</th>    <td>    0.1472</td> <td>    0.045</td> <td>    3.268</td> <td> 0.001</td> <td>    0.059</td> <td>    0.236</td>\n",
       "</tr>\n",
       "<tr>\n",
       "  <th>x8</th>    <td>    0.0026</td> <td>    0.002</td> <td>    1.693</td> <td> 0.091</td> <td>   -0.000</td> <td>    0.006</td>\n",
       "</tr>\n",
       "</table>\n",
       "<table class=\"simpletable\">\n",
       "<tr>\n",
       "  <th>Omnibus:</th>       <td>41.539</td> <th>  Durbin-Watson:     </th> <td>   1.982</td>\n",
       "</tr>\n",
       "<tr>\n",
       "  <th>Prob(Omnibus):</th> <td> 0.000</td> <th>  Jarque-Bera (JB):  </th> <td>  31.183</td>\n",
       "</tr>\n",
       "<tr>\n",
       "  <th>Skew:</th>          <td> 0.395</td> <th>  Prob(JB):          </th> <td>1.69e-07</td>\n",
       "</tr>\n",
       "<tr>\n",
       "  <th>Kurtosis:</th>      <td> 2.408</td> <th>  Cond. No.          </th> <td>1.10e+03</td>\n",
       "</tr>\n",
       "</table><br/><br/>Notes:<br/>[1] Standard Errors assume that the covariance matrix of the errors is correctly specified.<br/>[2] The condition number is large, 1.1e+03. This might indicate that there are<br/>strong multicollinearity or other numerical problems."
      ],
      "text/plain": [
       "<class 'statsmodels.iolib.summary.Summary'>\n",
       "\"\"\"\n",
       "                            OLS Regression Results                            \n",
       "==============================================================================\n",
       "Dep. Variable:                Outcome   R-squared:                       0.303\n",
       "Model:                            OLS   Adj. R-squared:                  0.296\n",
       "Method:                 Least Squares   F-statistic:                     41.29\n",
       "Date:                Thu, 03 Jun 2021   Prob (F-statistic):           7.36e-55\n",
       "Time:                        19:19:07   Log-Likelihood:                -381.91\n",
       "No. Observations:                 768   AIC:                             781.8\n",
       "Df Residuals:                     759   BIC:                             823.6\n",
       "Df Model:                           8                                         \n",
       "Covariance Type:            nonrobust                                         \n",
       "==============================================================================\n",
       "                 coef    std err          t      P>|t|      [0.025      0.975]\n",
       "------------------------------------------------------------------------------\n",
       "const         -0.8539      0.085     -9.989      0.000      -1.022      -0.686\n",
       "x1             0.0206      0.005      4.014      0.000       0.011       0.031\n",
       "x2             0.0059      0.001     11.493      0.000       0.005       0.007\n",
       "x3            -0.0023      0.001     -2.873      0.004      -0.004      -0.001\n",
       "x4             0.0002      0.001      0.139      0.890      -0.002       0.002\n",
       "x5            -0.0002      0.000     -1.205      0.229      -0.000       0.000\n",
       "x6             0.0132      0.002      6.344      0.000       0.009       0.017\n",
       "x7             0.1472      0.045      3.268      0.001       0.059       0.236\n",
       "x8             0.0026      0.002      1.693      0.091      -0.000       0.006\n",
       "==============================================================================\n",
       "Omnibus:                       41.539   Durbin-Watson:                   1.982\n",
       "Prob(Omnibus):                  0.000   Jarque-Bera (JB):               31.183\n",
       "Skew:                           0.395   Prob(JB):                     1.69e-07\n",
       "Kurtosis:                       2.408   Cond. No.                     1.10e+03\n",
       "==============================================================================\n",
       "\n",
       "Notes:\n",
       "[1] Standard Errors assume that the covariance matrix of the errors is correctly specified.\n",
       "[2] The condition number is large, 1.1e+03. This might indicate that there are\n",
       "strong multicollinearity or other numerical problems.\n",
       "\"\"\""
      ]
     },
     "execution_count": 8,
     "metadata": {},
     "output_type": "execute_result"
    }
   ],
   "source": [
    "import statsmodels.regression.linear_model as sm\n",
    "# add a column of ones as integer data type\n",
    "x = np.append(arr = np.ones((768, 1)).astype(int), \n",
    "              values = x, axis = 1)\n",
    "# choose a Significance level usually 0.05, if p>0.05\n",
    "#  for the highest values parameter, remove that value\n",
    "x_opt = x[:, [0, 1, 2, 3, 4, 5, 6, 7 , 8]]\n",
    "ols = sm.OLS(endog = y, exog = x_opt).fit()\n",
    "ols.summary()"
   ]
  },
  {
   "cell_type": "code",
   "execution_count": 9,
   "metadata": {
    "colab": {
     "base_uri": "https://localhost:8080/",
     "height": 604
    },
    "executionInfo": {
     "elapsed": 1819,
     "status": "ok",
     "timestamp": 1621401570613,
     "user": {
      "displayName": "Ivan Pakpahan",
      "photoUrl": "https://lh3.googleusercontent.com/a-/AOh14GhLBwAL8vhuqK5UGeWMktgqAByft0ql2mJg_1mb=s64",
      "userId": "08537336944096718331"
     },
     "user_tz": -420
    },
    "id": "JkSMoq74gxrC",
    "outputId": "2a6e2a0f-ba05-4cd4-edd6-15e3ad195a4d"
   },
   "outputs": [
    {
     "data": {
      "text/html": [
       "<table class=\"simpletable\">\n",
       "<caption>OLS Regression Results</caption>\n",
       "<tr>\n",
       "  <th>Dep. Variable:</th>         <td>Outcome</td>     <th>  R-squared:         </th> <td>   0.303</td>\n",
       "</tr>\n",
       "<tr>\n",
       "  <th>Model:</th>                   <td>OLS</td>       <th>  Adj. R-squared:    </th> <td>   0.297</td>\n",
       "</tr>\n",
       "<tr>\n",
       "  <th>Method:</th>             <td>Least Squares</td>  <th>  F-statistic:       </th> <td>   47.25</td>\n",
       "</tr>\n",
       "<tr>\n",
       "  <th>Date:</th>             <td>Thu, 03 Jun 2021</td> <th>  Prob (F-statistic):</th> <td>1.04e-55</td>\n",
       "</tr>\n",
       "<tr>\n",
       "  <th>Time:</th>                 <td>19:20:13</td>     <th>  Log-Likelihood:    </th> <td> -381.92</td>\n",
       "</tr>\n",
       "<tr>\n",
       "  <th>No. Observations:</th>      <td>   768</td>      <th>  AIC:               </th> <td>   779.8</td>\n",
       "</tr>\n",
       "<tr>\n",
       "  <th>Df Residuals:</th>          <td>   760</td>      <th>  BIC:               </th> <td>   817.0</td>\n",
       "</tr>\n",
       "<tr>\n",
       "  <th>Df Model:</th>              <td>     7</td>      <th>                     </th>     <td> </td>   \n",
       "</tr>\n",
       "<tr>\n",
       "  <th>Covariance Type:</th>      <td>nonrobust</td>    <th>                     </th>     <td> </td>   \n",
       "</tr>\n",
       "</table>\n",
       "<table class=\"simpletable\">\n",
       "<tr>\n",
       "    <td></td>       <th>coef</th>     <th>std err</th>      <th>t</th>      <th>P>|t|</th>  <th>[0.025</th>    <th>0.975]</th>  \n",
       "</tr>\n",
       "<tr>\n",
       "  <th>const</th> <td>   -0.8538</td> <td>    0.085</td> <td>   -9.994</td> <td> 0.000</td> <td>   -1.021</td> <td>   -0.686</td>\n",
       "</tr>\n",
       "<tr>\n",
       "  <th>x1</th>    <td>    0.0206</td> <td>    0.005</td> <td>    4.017</td> <td> 0.000</td> <td>    0.011</td> <td>    0.031</td>\n",
       "</tr>\n",
       "<tr>\n",
       "  <th>x2</th>    <td>    0.0059</td> <td>    0.001</td> <td>   11.619</td> <td> 0.000</td> <td>    0.005</td> <td>    0.007</td>\n",
       "</tr>\n",
       "<tr>\n",
       "  <th>x3</th>    <td>   -0.0023</td> <td>    0.001</td> <td>   -2.886</td> <td> 0.004</td> <td>   -0.004</td> <td>   -0.001</td>\n",
       "</tr>\n",
       "<tr>\n",
       "  <th>x4</th>    <td>   -0.0002</td> <td>    0.000</td> <td>   -1.257</td> <td> 0.209</td> <td>   -0.000</td> <td> 9.68e-05</td>\n",
       "</tr>\n",
       "<tr>\n",
       "  <th>x5</th>    <td>    0.0133</td> <td>    0.002</td> <td>    6.759</td> <td> 0.000</td> <td>    0.009</td> <td>    0.017</td>\n",
       "</tr>\n",
       "<tr>\n",
       "  <th>x6</th>    <td>    0.1479</td> <td>    0.045</td> <td>    3.302</td> <td> 0.001</td> <td>    0.060</td> <td>    0.236</td>\n",
       "</tr>\n",
       "<tr>\n",
       "  <th>x7</th>    <td>    0.0026</td> <td>    0.002</td> <td>    1.688</td> <td> 0.092</td> <td>   -0.000</td> <td>    0.006</td>\n",
       "</tr>\n",
       "</table>\n",
       "<table class=\"simpletable\">\n",
       "<tr>\n",
       "  <th>Omnibus:</th>       <td>41.243</td> <th>  Durbin-Watson:     </th> <td>   1.981</td>\n",
       "</tr>\n",
       "<tr>\n",
       "  <th>Prob(Omnibus):</th> <td> 0.000</td> <th>  Jarque-Bera (JB):  </th> <td>  31.041</td>\n",
       "</tr>\n",
       "<tr>\n",
       "  <th>Skew:</th>          <td> 0.394</td> <th>  Prob(JB):          </th> <td>1.82e-07</td>\n",
       "</tr>\n",
       "<tr>\n",
       "  <th>Kurtosis:</th>      <td> 2.410</td> <th>  Cond. No.          </th> <td>1.09e+03</td>\n",
       "</tr>\n",
       "</table><br/><br/>Notes:<br/>[1] Standard Errors assume that the covariance matrix of the errors is correctly specified.<br/>[2] The condition number is large, 1.09e+03. This might indicate that there are<br/>strong multicollinearity or other numerical problems."
      ],
      "text/plain": [
       "<class 'statsmodels.iolib.summary.Summary'>\n",
       "\"\"\"\n",
       "                            OLS Regression Results                            \n",
       "==============================================================================\n",
       "Dep. Variable:                Outcome   R-squared:                       0.303\n",
       "Model:                            OLS   Adj. R-squared:                  0.297\n",
       "Method:                 Least Squares   F-statistic:                     47.25\n",
       "Date:                Thu, 03 Jun 2021   Prob (F-statistic):           1.04e-55\n",
       "Time:                        19:20:13   Log-Likelihood:                -381.92\n",
       "No. Observations:                 768   AIC:                             779.8\n",
       "Df Residuals:                     760   BIC:                             817.0\n",
       "Df Model:                           7                                         \n",
       "Covariance Type:            nonrobust                                         \n",
       "==============================================================================\n",
       "                 coef    std err          t      P>|t|      [0.025      0.975]\n",
       "------------------------------------------------------------------------------\n",
       "const         -0.8538      0.085     -9.994      0.000      -1.021      -0.686\n",
       "x1             0.0206      0.005      4.017      0.000       0.011       0.031\n",
       "x2             0.0059      0.001     11.619      0.000       0.005       0.007\n",
       "x3            -0.0023      0.001     -2.886      0.004      -0.004      -0.001\n",
       "x4            -0.0002      0.000     -1.257      0.209      -0.000    9.68e-05\n",
       "x5             0.0133      0.002      6.759      0.000       0.009       0.017\n",
       "x6             0.1479      0.045      3.302      0.001       0.060       0.236\n",
       "x7             0.0026      0.002      1.688      0.092      -0.000       0.006\n",
       "==============================================================================\n",
       "Omnibus:                       41.243   Durbin-Watson:                   1.981\n",
       "Prob(Omnibus):                  0.000   Jarque-Bera (JB):               31.041\n",
       "Skew:                           0.394   Prob(JB):                     1.82e-07\n",
       "Kurtosis:                       2.410   Cond. No.                     1.09e+03\n",
       "==============================================================================\n",
       "\n",
       "Notes:\n",
       "[1] Standard Errors assume that the covariance matrix of the errors is correctly specified.\n",
       "[2] The condition number is large, 1.09e+03. This might indicate that there are\n",
       "strong multicollinearity or other numerical problems.\n",
       "\"\"\""
      ]
     },
     "execution_count": 9,
     "metadata": {},
     "output_type": "execute_result"
    }
   ],
   "source": [
    "# remove the 4th column as it has the highest value\n",
    "x_opt = x[:, [0,1,2,3,5,6,7,8]]\n",
    "ols = sm.OLS(endog = y, exog = x_opt).fit()\n",
    "ols.summary()"
   ]
  },
  {
   "cell_type": "code",
   "execution_count": 10,
   "metadata": {
    "colab": {
     "base_uri": "https://localhost:8080/",
     "height": 549
    },
    "executionInfo": {
     "elapsed": 1359,
     "status": "ok",
     "timestamp": 1621401709542,
     "user": {
      "displayName": "Ivan Pakpahan",
      "photoUrl": "https://lh3.googleusercontent.com/a-/AOh14GhLBwAL8vhuqK5UGeWMktgqAByft0ql2mJg_1mb=s64",
      "userId": "08537336944096718331"
     },
     "user_tz": -420
    },
    "id": "BUmeLy8-g_6d",
    "outputId": "6b7cf584-453a-4155-af7a-d4ba8a146c9c"
   },
   "outputs": [
    {
     "data": {
      "text/html": [
       "<table class=\"simpletable\">\n",
       "<caption>OLS Regression Results</caption>\n",
       "<tr>\n",
       "  <th>Dep. Variable:</th>         <td>Outcome</td>     <th>  R-squared:         </th> <td>   0.302</td>\n",
       "</tr>\n",
       "<tr>\n",
       "  <th>Model:</th>                   <td>OLS</td>       <th>  Adj. R-squared:    </th> <td>   0.296</td>\n",
       "</tr>\n",
       "<tr>\n",
       "  <th>Method:</th>             <td>Least Squares</td>  <th>  F-statistic:       </th> <td>   54.82</td>\n",
       "</tr>\n",
       "<tr>\n",
       "  <th>Date:</th>             <td>Thu, 03 Jun 2021</td> <th>  Prob (F-statistic):</th> <td>2.92e-56</td>\n",
       "</tr>\n",
       "<tr>\n",
       "  <th>Time:</th>                 <td>19:20:56</td>     <th>  Log-Likelihood:    </th> <td> -382.72</td>\n",
       "</tr>\n",
       "<tr>\n",
       "  <th>No. Observations:</th>      <td>   768</td>      <th>  AIC:               </th> <td>   779.4</td>\n",
       "</tr>\n",
       "<tr>\n",
       "  <th>Df Residuals:</th>          <td>   761</td>      <th>  BIC:               </th> <td>   811.9</td>\n",
       "</tr>\n",
       "<tr>\n",
       "  <th>Df Model:</th>              <td>     6</td>      <th>                     </th>     <td> </td>   \n",
       "</tr>\n",
       "<tr>\n",
       "  <th>Covariance Type:</th>      <td>nonrobust</td>    <th>                     </th>     <td> </td>   \n",
       "</tr>\n",
       "</table>\n",
       "<table class=\"simpletable\">\n",
       "<tr>\n",
       "    <td></td>       <th>coef</th>     <th>std err</th>      <th>t</th>      <th>P>|t|</th>  <th>[0.025</th>    <th>0.975]</th>  \n",
       "</tr>\n",
       "<tr>\n",
       "  <th>const</th> <td>   -0.8363</td> <td>    0.084</td> <td>   -9.919</td> <td> 0.000</td> <td>   -1.002</td> <td>   -0.671</td>\n",
       "</tr>\n",
       "<tr>\n",
       "  <th>x1</th>    <td>    0.0209</td> <td>    0.005</td> <td>    4.086</td> <td> 0.000</td> <td>    0.011</td> <td>    0.031</td>\n",
       "</tr>\n",
       "<tr>\n",
       "  <th>x2</th>    <td>    0.0057</td> <td>    0.000</td> <td>   11.815</td> <td> 0.000</td> <td>    0.005</td> <td>    0.007</td>\n",
       "</tr>\n",
       "<tr>\n",
       "  <th>x3</th>    <td>   -0.0024</td> <td>    0.001</td> <td>   -2.940</td> <td> 0.003</td> <td>   -0.004</td> <td>   -0.001</td>\n",
       "</tr>\n",
       "<tr>\n",
       "  <th>x4</th>    <td>    0.0131</td> <td>    0.002</td> <td>    6.662</td> <td> 0.000</td> <td>    0.009</td> <td>    0.017</td>\n",
       "</tr>\n",
       "<tr>\n",
       "  <th>x5</th>    <td>    0.1403</td> <td>    0.044</td> <td>    3.160</td> <td> 0.002</td> <td>    0.053</td> <td>    0.227</td>\n",
       "</tr>\n",
       "<tr>\n",
       "  <th>x6</th>    <td>    0.0028</td> <td>    0.002</td> <td>    1.822</td> <td> 0.069</td> <td>   -0.000</td> <td>    0.006</td>\n",
       "</tr>\n",
       "</table>\n",
       "<table class=\"simpletable\">\n",
       "<tr>\n",
       "  <th>Omnibus:</th>       <td>40.153</td> <th>  Durbin-Watson:     </th> <td>   1.990</td>\n",
       "</tr>\n",
       "<tr>\n",
       "  <th>Prob(Omnibus):</th> <td> 0.000</td> <th>  Jarque-Bera (JB):  </th> <td>  30.102</td>\n",
       "</tr>\n",
       "<tr>\n",
       "  <th>Skew:</th>          <td> 0.386</td> <th>  Prob(JB):          </th> <td>2.91e-07</td>\n",
       "</tr>\n",
       "<tr>\n",
       "  <th>Kurtosis:</th>      <td> 2.413</td> <th>  Cond. No.          </th> <td>    877.</td>\n",
       "</tr>\n",
       "</table><br/><br/>Notes:<br/>[1] Standard Errors assume that the covariance matrix of the errors is correctly specified."
      ],
      "text/plain": [
       "<class 'statsmodels.iolib.summary.Summary'>\n",
       "\"\"\"\n",
       "                            OLS Regression Results                            \n",
       "==============================================================================\n",
       "Dep. Variable:                Outcome   R-squared:                       0.302\n",
       "Model:                            OLS   Adj. R-squared:                  0.296\n",
       "Method:                 Least Squares   F-statistic:                     54.82\n",
       "Date:                Thu, 03 Jun 2021   Prob (F-statistic):           2.92e-56\n",
       "Time:                        19:20:56   Log-Likelihood:                -382.72\n",
       "No. Observations:                 768   AIC:                             779.4\n",
       "Df Residuals:                     761   BIC:                             811.9\n",
       "Df Model:                           6                                         \n",
       "Covariance Type:            nonrobust                                         \n",
       "==============================================================================\n",
       "                 coef    std err          t      P>|t|      [0.025      0.975]\n",
       "------------------------------------------------------------------------------\n",
       "const         -0.8363      0.084     -9.919      0.000      -1.002      -0.671\n",
       "x1             0.0209      0.005      4.086      0.000       0.011       0.031\n",
       "x2             0.0057      0.000     11.815      0.000       0.005       0.007\n",
       "x3            -0.0024      0.001     -2.940      0.003      -0.004      -0.001\n",
       "x4             0.0131      0.002      6.662      0.000       0.009       0.017\n",
       "x5             0.1403      0.044      3.160      0.002       0.053       0.227\n",
       "x6             0.0028      0.002      1.822      0.069      -0.000       0.006\n",
       "==============================================================================\n",
       "Omnibus:                       40.153   Durbin-Watson:                   1.990\n",
       "Prob(Omnibus):                  0.000   Jarque-Bera (JB):               30.102\n",
       "Skew:                           0.386   Prob(JB):                     2.91e-07\n",
       "Kurtosis:                       2.413   Cond. No.                         877.\n",
       "==============================================================================\n",
       "\n",
       "Notes:\n",
       "[1] Standard Errors assume that the covariance matrix of the errors is correctly specified.\n",
       "\"\"\""
      ]
     },
     "execution_count": 10,
     "metadata": {},
     "output_type": "execute_result"
    }
   ],
   "source": [
    "# remove the 5th column as it has the highest value\n",
    "x_opt = x[:, [0, 1, 2, 3, 6, 7, 8]]\n",
    "ols = sm.OLS(endog = y, exog = x_opt).fit()\n",
    "ols.summary()"
   ]
  },
  {
   "cell_type": "code",
   "execution_count": 11,
   "metadata": {
    "colab": {
     "base_uri": "https://localhost:8080/",
     "height": 528
    },
    "executionInfo": {
     "elapsed": 1549,
     "status": "ok",
     "timestamp": 1621401769048,
     "user": {
      "displayName": "Ivan Pakpahan",
      "photoUrl": "https://lh3.googleusercontent.com/a-/AOh14GhLBwAL8vhuqK5UGeWMktgqAByft0ql2mJg_1mb=s64",
      "userId": "08537336944096718331"
     },
     "user_tz": -420
    },
    "id": "LokM-3dFhHQ2",
    "outputId": "bf8df6d4-4913-4826-de4a-3218914f7a68"
   },
   "outputs": [
    {
     "data": {
      "text/html": [
       "<table class=\"simpletable\">\n",
       "<caption>OLS Regression Results</caption>\n",
       "<tr>\n",
       "  <th>Dep. Variable:</th>         <td>Outcome</td>     <th>  R-squared:         </th> <td>   0.299</td>\n",
       "</tr>\n",
       "<tr>\n",
       "  <th>Model:</th>                   <td>OLS</td>       <th>  Adj. R-squared:    </th> <td>   0.294</td>\n",
       "</tr>\n",
       "<tr>\n",
       "  <th>Method:</th>             <td>Least Squares</td>  <th>  F-statistic:       </th> <td>   64.92</td>\n",
       "</tr>\n",
       "<tr>\n",
       "  <th>Date:</th>             <td>Thu, 03 Jun 2021</td> <th>  Prob (F-statistic):</th> <td>1.76e-56</td>\n",
       "</tr>\n",
       "<tr>\n",
       "  <th>Time:</th>                 <td>19:21:00</td>     <th>  Log-Likelihood:    </th> <td> -384.39</td>\n",
       "</tr>\n",
       "<tr>\n",
       "  <th>No. Observations:</th>      <td>   768</td>      <th>  AIC:               </th> <td>   780.8</td>\n",
       "</tr>\n",
       "<tr>\n",
       "  <th>Df Residuals:</th>          <td>   762</td>      <th>  BIC:               </th> <td>   808.6</td>\n",
       "</tr>\n",
       "<tr>\n",
       "  <th>Df Model:</th>              <td>     5</td>      <th>                     </th>     <td> </td>   \n",
       "</tr>\n",
       "<tr>\n",
       "  <th>Covariance Type:</th>      <td>nonrobust</td>    <th>                     </th>     <td> </td>   \n",
       "</tr>\n",
       "</table>\n",
       "<table class=\"simpletable\">\n",
       "<tr>\n",
       "    <td></td>       <th>coef</th>     <th>std err</th>      <th>t</th>      <th>P>|t|</th>  <th>[0.025</th>    <th>0.975]</th>  \n",
       "</tr>\n",
       "<tr>\n",
       "  <th>const</th> <td>   -0.7966</td> <td>    0.082</td> <td>   -9.765</td> <td> 0.000</td> <td>   -0.957</td> <td>   -0.636</td>\n",
       "</tr>\n",
       "<tr>\n",
       "  <th>x1</th>    <td>    0.0258</td> <td>    0.004</td> <td>    5.898</td> <td> 0.000</td> <td>    0.017</td> <td>    0.034</td>\n",
       "</tr>\n",
       "<tr>\n",
       "  <th>x2</th>    <td>    0.0059</td> <td>    0.000</td> <td>   12.482</td> <td> 0.000</td> <td>    0.005</td> <td>    0.007</td>\n",
       "</tr>\n",
       "<tr>\n",
       "  <th>x3</th>    <td>   -0.0021</td> <td>    0.001</td> <td>   -2.648</td> <td> 0.008</td> <td>   -0.004</td> <td>   -0.001</td>\n",
       "</tr>\n",
       "<tr>\n",
       "  <th>x4</th>    <td>    0.0128</td> <td>    0.002</td> <td>    6.539</td> <td> 0.000</td> <td>    0.009</td> <td>    0.017</td>\n",
       "</tr>\n",
       "<tr>\n",
       "  <th>x5</th>    <td>    0.1430</td> <td>    0.044</td> <td>    3.218</td> <td> 0.001</td> <td>    0.056</td> <td>    0.230</td>\n",
       "</tr>\n",
       "</table>\n",
       "<table class=\"simpletable\">\n",
       "<tr>\n",
       "  <th>Omnibus:</th>       <td>39.537</td> <th>  Durbin-Watson:     </th> <td>   2.001</td>\n",
       "</tr>\n",
       "<tr>\n",
       "  <th>Prob(Omnibus):</th> <td> 0.000</td> <th>  Jarque-Bera (JB):  </th> <td>  32.027</td>\n",
       "</tr>\n",
       "<tr>\n",
       "  <th>Skew:</th>          <td> 0.416</td> <th>  Prob(JB):          </th> <td>1.11e-07</td>\n",
       "</tr>\n",
       "<tr>\n",
       "  <th>Kurtosis:</th>      <td> 2.445</td> <th>  Cond. No.          </th> <td>    827.</td>\n",
       "</tr>\n",
       "</table><br/><br/>Notes:<br/>[1] Standard Errors assume that the covariance matrix of the errors is correctly specified."
      ],
      "text/plain": [
       "<class 'statsmodels.iolib.summary.Summary'>\n",
       "\"\"\"\n",
       "                            OLS Regression Results                            \n",
       "==============================================================================\n",
       "Dep. Variable:                Outcome   R-squared:                       0.299\n",
       "Model:                            OLS   Adj. R-squared:                  0.294\n",
       "Method:                 Least Squares   F-statistic:                     64.92\n",
       "Date:                Thu, 03 Jun 2021   Prob (F-statistic):           1.76e-56\n",
       "Time:                        19:21:00   Log-Likelihood:                -384.39\n",
       "No. Observations:                 768   AIC:                             780.8\n",
       "Df Residuals:                     762   BIC:                             808.6\n",
       "Df Model:                           5                                         \n",
       "Covariance Type:            nonrobust                                         \n",
       "==============================================================================\n",
       "                 coef    std err          t      P>|t|      [0.025      0.975]\n",
       "------------------------------------------------------------------------------\n",
       "const         -0.7966      0.082     -9.765      0.000      -0.957      -0.636\n",
       "x1             0.0258      0.004      5.898      0.000       0.017       0.034\n",
       "x2             0.0059      0.000     12.482      0.000       0.005       0.007\n",
       "x3            -0.0021      0.001     -2.648      0.008      -0.004      -0.001\n",
       "x4             0.0128      0.002      6.539      0.000       0.009       0.017\n",
       "x5             0.1430      0.044      3.218      0.001       0.056       0.230\n",
       "==============================================================================\n",
       "Omnibus:                       39.537   Durbin-Watson:                   2.001\n",
       "Prob(Omnibus):                  0.000   Jarque-Bera (JB):               32.027\n",
       "Skew:                           0.416   Prob(JB):                     1.11e-07\n",
       "Kurtosis:                       2.445   Cond. No.                         827.\n",
       "==============================================================================\n",
       "\n",
       "Notes:\n",
       "[1] Standard Errors assume that the covariance matrix of the errors is correctly specified.\n",
       "\"\"\""
      ]
     },
     "execution_count": 11,
     "metadata": {},
     "output_type": "execute_result"
    }
   ],
   "source": [
    "# remove the 8rd column as it has the highest value\n",
    "x_opt = x[:, [0, 1, 2, 3, 6, 7]]\n",
    "ols = sm.OLS(endog = y, exog = x_opt).fit()\n",
    "ols.summary()"
   ]
  },
  {
   "cell_type": "code",
   "execution_count": 12,
   "metadata": {
    "executionInfo": {
     "elapsed": 1702,
     "status": "ok",
     "timestamp": 1621401918432,
     "user": {
      "displayName": "Ivan Pakpahan",
      "photoUrl": "https://lh3.googleusercontent.com/a-/AOh14GhLBwAL8vhuqK5UGeWMktgqAByft0ql2mJg_1mb=s64",
      "userId": "08537336944096718331"
     },
     "user_tz": -420
    },
    "id": "Ill_FO-uhM7H"
   },
   "outputs": [],
   "source": [
    "#Hasil optimal variabel x\n",
    "x = df[['Pregnancies', 'Glucose', 'BloodPressure', 'BMI', 'DiabetesPedigreeFunction']]"
   ]
  }
 ],
 "metadata": {
  "colab": {
   "authorship_tag": "ABX9TyNHEB2DyePsqlqzHtnNOQ2Q",
   "collapsed_sections": [],
   "mount_file_id": "1Q5iQ_suHS60pzAtK6JFk_dVc3Ta4H2U7",
   "name": "2__Seleksi_Variabel.ipynb",
   "provenance": []
  },
  "kernelspec": {
   "display_name": "Python 3",
   "language": "python",
   "name": "python3"
  },
  "language_info": {
   "codemirror_mode": {
    "name": "ipython",
    "version": 3
   },
   "file_extension": ".py",
   "mimetype": "text/x-python",
   "name": "python",
   "nbconvert_exporter": "python",
   "pygments_lexer": "ipython3",
   "version": "3.7.8"
  },
  "metadata": {
   "interpreter": {
    "hash": "dac28e380f7dea8c88c3ac31818164fb0d0b8beb792687e3c6bc58530f20605c"
   }
  }
 },
 "nbformat": 4,
 "nbformat_minor": 1
}
